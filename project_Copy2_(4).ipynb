{
  "nbformat": 4,
  "nbformat_minor": 0,
  "metadata": {
    "colab": {
      "name": "project_Copy2 (4).ipynb",
      "provenance": [],
      "collapsed_sections": []
    },
    "kernelspec": {
      "display_name": "Python 3",
      "language": "python",
      "name": "python3"
    },
    "language_info": {
      "codemirror_mode": {
        "name": "ipython",
        "version": 3
      },
      "file_extension": ".py",
      "mimetype": "text/x-python",
      "name": "python",
      "nbconvert_exporter": "python",
      "pygments_lexer": "ipython3",
      "version": "3.7.6"
    }
  },
  "cells": [
    {
      "cell_type": "markdown",
      "metadata": {
        "id": "tkZ478H9F7Bo"
      },
      "source": [
        "#1414 to 1460\n",
        "#and what to do with lines 1465 to 1470\n",
        "#what to do with 1499"
      ]
    },
    {
      "cell_type": "code",
      "metadata": {
        "id": "hDBcfVcrst3x"
      },
      "source": [
        "# Importing Libraries\n",
        "\n",
        "import numpy as np\n",
        "import pandas as pd\n",
        "import re\n",
        "\n",
        "#to remove html tags \n",
        "from bs4 import BeautifulSoup"
      ],
      "execution_count": 1,
      "outputs": []
    },
    {
      "cell_type": "code",
      "metadata": {
        "colab": {
          "base_uri": "https://localhost:8080/"
        },
        "id": "ZDnXxiXLUYt9",
        "outputId": "c4c1b41d-18ab-4d6d-acb1-b9bedbf90331"
      },
      "source": [
        "from google.colab import drive\n",
        "drive.mount('/content/drive')"
      ],
      "execution_count": 3,
      "outputs": [
        {
          "output_type": "stream",
          "text": [
            "Mounted at /content/drive\n"
          ],
          "name": "stdout"
        }
      ]
    },
    {
      "cell_type": "code",
      "metadata": {
        "colab": {
          "base_uri": "https://localhost:8080/"
        },
        "id": "pMcqOwXWVbvV",
        "outputId": "121c9269-5877-40f7-ab0d-248e5b36d510"
      },
      "source": [
        "!gdown https://drive.google.com/uc?id=1XtSMv46dmU4LSAp93V_Lwvb8L-sPWa_z"
      ],
      "execution_count": 2,
      "outputs": [
        {
          "output_type": "stream",
          "text": [
            "Downloading...\n",
            "From: https://drive.google.com/uc?id=1XtSMv46dmU4LSAp93V_Lwvb8L-sPWa_z\n",
            "To: /content/Emails.csv\n",
            "84.7MB [00:00, 150MB/s]\n"
          ],
          "name": "stdout"
        }
      ]
    },
    {
      "cell_type": "code",
      "metadata": {
        "id": "OFv3wdLLst4D"
      },
      "source": [
        "#for visualizations\n",
        "import seaborn as sns\n",
        "import matplotlib.pyplot as plt\n",
        "\n",
        "#for regular expressions\n",
        "import re\n",
        "\n",
        "df_org=pd.read_csv('Emails.csv')\n",
        "df_org=df_org.drop('Unnamed: 0',axis=1)"
      ],
      "execution_count": 3,
      "outputs": []
    },
    {
      "cell_type": "code",
      "metadata": {
        "id": "lrC9GeLwipCT"
      },
      "source": [
        "df=df_org.copy()"
      ],
      "execution_count": 23,
      "outputs": []
    },
    {
      "cell_type": "code",
      "metadata": {
        "id": "WNyEc_jfe69T"
      },
      "source": [
        "#this file contains most common first name and surname\n",
        "# last=pd.read_csv('Last Name.txt',names=['name'])\n",
        "# last=last.dropna()\n",
        "# last.index=[x for x in range(last.shape[0])]"
      ],
      "execution_count": null,
      "outputs": []
    },
    {
      "cell_type": "code",
      "metadata": {
        "id": "ZjbcTgU4fKKp"
      },
      "source": [
        "#creating pattern which we'll use to search for \n",
        "s=''\n",
        "for i in range(last.shape[0]):\n",
        "    \n",
        "    if i!=(last.shape[0]-1):\n",
        "        \n",
        "        s= s+' '+last['name'][i][0].lower()+last['name'][i][1:].lower()+'|'\n",
        "    else:\n",
        "        s=s+' '+last['name'][i][0].lower()+last['name'][i][1:].lower()\n",
        "\n",
        "                  "
      ],
      "execution_count": null,
      "outputs": []
    },
    {
      "cell_type": "code",
      "metadata": {
        "id": "UrlbAGiufhXU",
        "outputId": "9f7a180d-6793-468b-aaf5-6cda94d41b77"
      },
      "source": [
        "#removing  names\n",
        "for index in range(df.shape[0]):\n",
        " df.loc[index,'content']=re.sub(s,'',str(df['content'][index]).lower())\n",
        " if index%100==0:\n",
        "        print(index)"
      ],
      "execution_count": null,
      "outputs": [
        {
          "output_type": "stream",
          "text": [
            "0\n",
            "100\n",
            "200\n",
            "300\n",
            "400\n",
            "500\n",
            "600\n",
            "700\n",
            "800\n",
            "900\n",
            "1000\n",
            "1100\n",
            "1200\n",
            "1300\n",
            "1400\n",
            "1500\n",
            "1600\n",
            "1700\n",
            "1800\n",
            "1900\n",
            "2000\n",
            "2100\n",
            "2200\n",
            "2300\n",
            "2400\n",
            "2500\n",
            "2600\n",
            "2700\n",
            "2800\n",
            "2900\n",
            "3000\n",
            "3100\n",
            "3200\n",
            "3300\n",
            "3400\n",
            "3500\n",
            "3600\n",
            "3700\n",
            "3800\n",
            "3900\n",
            "4000\n",
            "4100\n",
            "4200\n",
            "4300\n",
            "4400\n",
            "4500\n",
            "4600\n",
            "4700\n",
            "4800\n",
            "4900\n",
            "5000\n",
            "5100\n",
            "5200\n",
            "5300\n",
            "5400\n",
            "5500\n",
            "5600\n",
            "5700\n",
            "5800\n",
            "5900\n",
            "6000\n",
            "6100\n",
            "6200\n",
            "6300\n",
            "6400\n",
            "6500\n",
            "6600\n",
            "6700\n",
            "6800\n",
            "6900\n",
            "7000\n",
            "7100\n",
            "7200\n",
            "7300\n",
            "7400\n",
            "7500\n",
            "7600\n",
            "7700\n",
            "7800\n",
            "7900\n",
            "8000\n",
            "8100\n",
            "8200\n",
            "8300\n",
            "8400\n",
            "8500\n",
            "8600\n",
            "8700\n",
            "8800\n",
            "8900\n",
            "9000\n",
            "9100\n",
            "9200\n",
            "9300\n",
            "9400\n",
            "9500\n",
            "9600\n",
            "9700\n",
            "9800\n",
            "9900\n",
            "10000\n",
            "10100\n",
            "10200\n",
            "10300\n",
            "10400\n",
            "10500\n",
            "10600\n",
            "10700\n",
            "10800\n",
            "10900\n",
            "11000\n",
            "11100\n",
            "11200\n",
            "11300\n",
            "11400\n",
            "11500\n",
            "11600\n",
            "11700\n",
            "11800\n",
            "11900\n",
            "12000\n",
            "12100\n",
            "12200\n",
            "12300\n",
            "12400\n",
            "12500\n",
            "12600\n",
            "12700\n",
            "12800\n",
            "12900\n",
            "13000\n",
            "13100\n",
            "13200\n",
            "13300\n",
            "13400\n",
            "13500\n",
            "13600\n",
            "13700\n",
            "13800\n",
            "13900\n",
            "14000\n",
            "14100\n",
            "14200\n",
            "14300\n",
            "14400\n"
          ],
          "name": "stdout"
        }
      ]
    },
    {
      "cell_type": "code",
      "metadata": {
        "id": "QdlvFjwupmpp"
      },
      "source": [
        "#removing html tags \n",
        "for index in range(df.shape[0]):\n",
        "  df.loc[index,'content']=BeautifulSoup(df['content'][index], 'lxml').get_text()"
      ],
      "execution_count": null,
      "outputs": []
    },
    {
      "cell_type": "code",
      "metadata": {
        "id": "2saG-L03qVIr"
      },
      "source": [
        "#removing url\n",
        "for index in range(df.shape[0]):\n",
        "  df.loc[index,'content']=re.sub(r\"http\\S+\", \"\", df['content'][index])"
      ],
      "execution_count": null,
      "outputs": []
    },
    {
      "cell_type": "code",
      "metadata": {
        "id": "_bZg-NiZq-Jf"
      },
      "source": [
        "#removing websites,mail addresses\n",
        "for index in range(df.shape[0]):\n",
        "  df.loc[index,'content']=re.sub(r\" [Ww]{3}\\S+\", \"\", df['content'][index])\n",
        "  \n",
        "  df.loc[index,'content']=re.sub('[a-zA-Z\\']+[A-Za-z0-9_.]*[@][\\S]+','',df['content'][index])\n",
        "\n"
      ],
      "execution_count": null,
      "outputs": []
    },
    {
      "cell_type": "code",
      "metadata": {
        "id": "DZ-9mZ3lAqGY"
      },
      "source": [
        "for index in range(df.shape[0]):\n",
        "  \n",
        "  \n",
        "  \n",
        "#removing time\n",
        "\n",
        "  df.loc[index,'content']=re.sub('[\\d]{2}[\\:][\\d]{2}[\\s]*AM|[\\d]{2}[\\:][\\d]{2}[\\s]*PM',' ',(df['content'][index]))\n",
        "\n",
        "#removing dates of dd/mm/yyyy format dates  date doesn't provide relevent info\n",
        "\n",
        "  df.loc[index,'content']=re.sub('[\\d]{2}[\\s]*[\\/][\\s]*[\\d]{2}[\\s]*[\\/][\\s]*[\\d]{4}',' ',df['content'][index])"
      ],
      "execution_count": null,
      "outputs": []
    },
    {
      "cell_type": "code",
      "metadata": {
        "id": "NM8HuXgmCOuk"
      },
      "source": [
        "#removing [*><]\n",
        "for index in range(df.shape[0]):\n",
        "  df.loc[index,'content']=re.sub(r\"[\\>]+|[\\<]+|[\\*]+\", \"\", df['content'][index])\n",
        "  \n",
        "  \n"
      ],
      "execution_count": null,
      "outputs": []
    },
    {
      "cell_type": "code",
      "metadata": {
        "id": "Oeo7FXcDDEzr"
      },
      "source": [
        "#removing To: cc: Subject Fwd:\n",
        "for index in range(df.shape[0]):\n",
        "  df.loc[index,'content']=re.sub(r\"To[\\s]*:|cc[\\s]*\\:|Subject[\\s]*\\:|Fwd[\\s]*\\:\", \"\", df['content'][index])"
      ],
      "execution_count": null,
      "outputs": []
    },
    {
      "cell_type": "code",
      "metadata": {
        "id": "5BXTQAQ1Eou9"
      },
      "source": [
        "#removing Forwarded by\n",
        "for index in range(df.shape[0]):\n",
        "  df.loc[index,'content']=re.sub(r\"Forwarded[\\s]*by\", \"\", df['content'][index])"
      ],
      "execution_count": null,
      "outputs": []
    },
    {
      "cell_type": "code",
      "metadata": {
        "id": "l6K_riLTvhtw"
      },
      "source": [
        "#removing time of format dd:dd or d:dd\n",
        "for index in range(df.shape[0]):\n",
        "  df.loc[index,'content']=re.sub(r\"[0-9]{2}[\\s]*\\:[\\s]*[0-9]{2}|[0-9]{1}[\\s]*\\:[\\s]*[0-9]{2}\", \"\", df['content'][index])"
      ],
      "execution_count": null,
      "outputs": []
    },
    {
      "cell_type": "code",
      "metadata": {
        "id": "R1RZaWgxJm3I"
      },
      "source": [
        "#removing Sincerely, and Dear followed by some name of entity\n",
        "for index in range(df.shape[0]):\n",
        "  #df.loc[index,'content']=re.sub(r\"Scerely,in\", \"\", df['content'][index])\n",
        "  df.loc[index,'content']=re.sub(r\"Dear[\\s]*[A-Z][a-z]*\", \"\", df['content'][index])\n"
      ],
      "execution_count": null,
      "outputs": []
    },
    {
      "cell_type": "code",
      "metadata": {
        "id": "luP_CWqiQnjq"
      },
      "source": [
        "#removing months from data\n",
        "months=['January','Febuary','March','April','May','June','July','August','September','October','November','December']\n",
        "#creating pattern \n",
        "s=''\n",
        "for i in range(len(months)):\n",
        "  if i!=len(months)-1:\n",
        "    s=s+months[i]+'|'+months[i][0].lower()+months[i][1:]+'|'\n",
        "\n",
        "  else:\n",
        "    s=s+months[i]+'|'+months[i][0].lower()+months[i][1:]+'|'\n",
        "\n",
        "months_abb=['Jan','Feb','Mar','Apr','May','June','July','Aug','Sept','Oct','Nov','Dec']\n",
        "for i in range(12):\n",
        "  if i!=11:\n",
        "    s=s+months_abb[i]+'|'+months_abb[i][0].lower()+months_abb[i][1:]+'|'\n",
        "  else:\n",
        "    s=s+months_abb[i]+'|'+months_abb[i][0].lower()+months_abb[i][1:]\n",
        "\n",
        "\n",
        "#now removing months\n",
        "for index in range(df.shape[0]):\n",
        "  df.loc[index,'content']=re.sub(s, \"\", df['content'][index])\n",
        "\n"
      ],
      "execution_count": null,
      "outputs": []
    },
    {
      "cell_type": "code",
      "metadata": {
        "id": "dDSdpP-MUV__"
      },
      "source": [
        "#removin day names\n",
        "days=['Sunday','Monday','Tuesday','Wednesday','Thursday','Friday','Saturday','Sun ','Mon ','Tue ','Wed ','Thu ','Thur ','Fri ','Sat ']\n",
        "\n",
        "#creating pattern\n",
        "s=''\n",
        "for i in range(len(days)):\n",
        "  if i!=len(days)-1:\n",
        "    s=s+days[i]+'|'+days[i][0].lower()+days[i][1:]+'|'\n",
        "  else:\n",
        "     s=s+days[i]+'|'+days[i][0].lower()+days[i][1:]\n",
        "#now removing day names\n",
        "for index in range(df.shape[0]):\n",
        "  df.loc[index,'content']=re.sub(s, \"\", df['content'][index])\n"
      ],
      "execution_count": null,
      "outputs": []
    },
    {
      "cell_type": "code",
      "metadata": {
        "id": "0Cg9nv9-YZmt"
      },
      "source": [
        "#removin word Original Message,From:,Sent:,Re:\n",
        "for index in range(df.shape[0]):\n",
        "  df.loc[index,'content']=re.sub('Original[\\s]+Message|From[\\s]*:|Sent[\\s]*:|Re[\\s]*:', \"\", df['content'][index])"
      ],
      "execution_count": null,
      "outputs": []
    },
    {
      "cell_type": "code",
      "metadata": {
        "id": "fLdCAdfPanYe"
      },
      "source": [
        "data=pd.DataFrame({'content':df['content'],'class':df['Class']})\n",
        "#data.to_csv('clean1.csv',index=False)"
      ],
      "execution_count": null,
      "outputs": []
    },
    {
      "cell_type": "code",
      "metadata": {
        "id": "5knKjzTGLbuj"
      },
      "source": [
        "df=pd.read_csv('clean1.csv')"
      ],
      "execution_count": null,
      "outputs": []
    },
    {
      "cell_type": "code",
      "metadata": {
        "id": "Y8ltjeGKKuS1"
      },
      "source": [
        "#removing words similar to  someword/HOU/someword and word [IMAGE]\n",
        "for index in range(df.shape[0]):\n",
        "  df.loc[index,'content']=re.sub('[A-Za-z]*[\\s]*/[\\s]*HOU[\\s]*/[a-zA-Z]*|[IMAGE]','',str(df['content'][index]))\n"
      ],
      "execution_count": null,
      "outputs": []
    },
    {
      "cell_type": "code",
      "metadata": {
        "id": "sagUAaePhf0C"
      },
      "source": [
        "#removing year with 4 digits only LIKE 2002\n",
        "for index in range(df.shape[0]):\n",
        "  df.loc[index,'content']=re.sub(' [0-9]{4}','',df['content'][index])"
      ],
      "execution_count": null,
      "outputs": []
    },
    {
      "cell_type": "code",
      "metadata": {
        "id": "bplreCRwh8OQ"
      },
      "source": [
        "#removing word mailto:,Date\n",
        "for index in range(df.shape[0]):\n",
        "  #removing word mailto:,Date\n",
        "  df.loc[index,'content']=re.sub(' mailto\\:|\\[mailto:|Date','',df['content'][index])\n",
        "\n",
        "  #removing phone numbers\n",
        "  df.loc[index,'content']=re.sub('[0-9]{3,4}\\-[0-9]{3,4}\\-[0-9]{3,4}','',df['content'][index])\n",
        "\n",
        "  #removing word e-mail, nd ,-mail,email\n",
        "  df.loc[index,'content']=re.sub(' e[\\s]*\\-[\\s]*mail|[\\s]nd|\\-mail|email',' ',df['content'][index])\n",
        "\n",
        "  #replacing  ried with marry and ost with most\n",
        "  df.loc[index,'content']=re.sub(' ost','most',df['content'][index])\n",
        "  df.loc[index,'content']=re.sub(' ried','marry',df['content'][index])\n",
        "\n"
      ],
      "execution_count": null,
      "outputs": []
    },
    {
      "cell_type": "code",
      "metadata": {
        "id": "-KSsezxE10yG"
      },
      "source": [
        "#removing some words which doesn't convey any significant info\n",
        "for index in range(df.shape[0]):\n",
        "  \n",
        "  \n",
        "  \n",
        "    \n",
        "#removing words  [Some word]_TYPE, SC_I\n",
        "  df.loc[index,'content']=re.sub('TRNS_[a-zA-Z]*|[a-zA-Z]+[\\s]*[\\_]TYPE|SC_I|[a-zA-Z]+[\\s]I_CISO_|[a-zA-Z]+[\\s]I|TRA[\\s]*ING_SC|ISO',' ',df['content'][index])\n",
        "  df.loc[index,'content']=re.sub('PURCH_SL|Final schedule not found for preferred schedule[.]|Details\\:|TRDN_SC','',df['content'][index])\n",
        "  df.loc[index,'content']=re.sub('[A-Z]*_TYP|[A-Z]*_PONT|NTRCH_D|SC_D: CTRT|PNT_OF_NTRC|SC_D|FNL|DL_NO','',df['content'][index])"
      ],
      "execution_count": null,
      "outputs": []
    },
    {
      "cell_type": "code",
      "metadata": {
        "id": "9TPimoRIVTgA"
      },
      "source": [
        "for index in range(df.shape[0]):\n",
        "  \n",
        "  #replacing sk with ask,et with set, bout with about\n",
        "  df.loc[index,'content']=re.sub(' sk',' ask',df['content'][index])\n",
        "  df.loc[index,'content']=re.sub(' et',' set',df['content'][index])\n",
        "  df.loc[index,'content']=re.sub(' bout',' about',df['content'][index])\n",
        " \n",
        "\n",
        "  #replacing ver with ever\n",
        "  df.loc[index,'content']=re.sub(' ver',' ever',df['content'][index])\n",
        " \n",
        "\n",
        "  \n",
        "  #replacing ember with member\n",
        "  df.loc[index,'content']=re.sub(' ember',' member',df['content'][index])\n",
        "\n",
        "  #replacing cceptable  with accept\n",
        "  df.loc[index,'content']=re.sub(' cceptable',' accept',df['content'][index])\n",
        "\n",
        "\n",
        "\n",
        "  \n",
        "  \n",
        "  \n",
        "  \n",
        " \n",
        "\n",
        "  \n",
        "\n",
        "  #removing Thanks,etc, ll and all,if,Wine,fter,after,i've,'ve\n",
        "  df.loc[index,'content']=re.sub(\"i've|'ve|fter|afterThanks,|[\\s]etc|Best\\,|[\\s]ll|[\\s]all|[\\s]if|[\\s]f|Wine|wine|[\\s]merica\",'',df['content'][index])"
      ],
      "execution_count": null,
      "outputs": []
    },
    {
      "cell_type": "code",
      "metadata": {
        "id": "8Y-jnF1KkMpj"
      },
      "source": [
        "for index in range(df.shape[0]):\n",
        "  \n",
        "  #replacing theuck and F--- with fuck,aucking, ucking,getucked with fuck\n",
        "  df.loc[index,'content']=re.sub('[\\s]theuck|F\\-\\-\\-|FUCKN|aucking|[\\s]ucking|getucked',' fuck',df['content'][index])\n",
        "  #replacing acceptance with accept\n",
        "  df.loc[index,'content']=re.sub('acceptance','accept',df['content'][index])\n",
        "\n",
        "  #removing sender,Thank you.\n",
        "  df.loc[index,'content']=re.sub('sender|Thank you\\.','',df['content'][index])\n",
        "\n",
        "  #replacing DCKHD with cock\n",
        "  df.loc[index,'content']=re.sub('DCKHD','cock',df['content'][index])\n",
        "\n",
        "  #replacing SSHOL with asshole \n",
        "  df.loc[index,'content']=re.sub(' SSHOL','asshole',df['content'][index])\n",
        "\n",
        "  \n",
        "\n",
        "\n"
      ],
      "execution_count": null,
      "outputs": []
    },
    {
      "cell_type": "code",
      "metadata": {
        "id": "svJ1u_O16TiX"
      },
      "source": [
        "for index in range(df.shape[0]):\n",
        "  #removing 'img' followed by some digits and characters\n",
        "  df.loc[index,'content']=re.sub('img[0-9]+[\\S]+|T&S|NPN','',df['content'][index])\n",
        "\n",
        "\n",
        "  #removing rror:,Cannot perform this operation on a closed database,3D,OL Object: Picture (etafile)\n",
        "  df.loc[index,'content']=re.sub('OL Object: Picture\\(etafile\\)|error\\:|Cannot perform this operation on a closed database|3D','',df['content'][index])\n",
        "\n",
        "  #removing word Regards ,lias: dbCaps97Data,lias\n",
        "  df.loc[index,'content']=re.sub('[\\W]lias|Regards|lias: dbCaps97Data|Not enough space on disk|\\!\\!\\!nsufficient disk space.','',df['content'][index])"
      ],
      "execution_count": null,
      "outputs": []
    },
    {
      "cell_type": "code",
      "metadata": {
        "id": "Mxv29s8oDqbH"
      },
      "source": [
        "for index in range(df.shape[0]):\n",
        "  #removing Name like entities\n",
        "  df.loc[index,'content']=re.sub('[A-Z][a-z]+[\\s][A-Z][a-z]+','',df['content'][index])\n",
        "  df.loc[index,'content']=re.sub('[A-Z][a-z]+\\/\\/|\\/\\/[\\s]*[A-Z][a-z]+','',df['content'][index])\n"
      ],
      "execution_count": null,
      "outputs": []
    },
    {
      "cell_type": "code",
      "metadata": {
        "colab": {
          "background_save": true
        },
        "id": "155tJkL5r8Xi"
      },
      "source": [
        "data=pd.DataFrame({'content':df['content'],'class':df['class']})\n",
        "data.to_csv('clean2.csv',index=False)"
      ],
      "execution_count": null,
      "outputs": []
    },
    {
      "cell_type": "code",
      "metadata": {
        "id": "ioujvyEYsOfB"
      },
      "source": [
        "df=pd.read_csv('clean2 (1).csv')"
      ],
      "execution_count": null,
      "outputs": []
    },
    {
      "cell_type": "code",
      "metadata": {
        "id": "d6rqB2SpsZw9"
      },
      "source": [
        "for index in range(df.shape[0]):\n",
        "  #HOU,FTFR\n",
        "  df.loc[index,'content']=re.sub('HOU|FTFR|FTLR|FTR|BUY|SLL|[\\s]V\\.|FT|[\\s]ermany','',str(df['content'][index]))"
      ],
      "execution_count": null,
      "outputs": []
    },
    {
      "cell_type": "code",
      "metadata": {
        "id": "jlmfB7FM-tUb"
      },
      "source": [
        "for index in range(df.shape[0]):\n",
        "\n",
        "  \n",
        "    #replacing goodor with good\n",
        "  df.loc[index,'content']=re.sub('goodor','good',str(df['content'][index]))\n",
        "\n",
        "  #removing Word Zone followed by some digit,-aster,ter,orour(with stands for orfour),ine\n",
        "  df.loc[index,'content']=re.sub('Zone[\\s][0-9]*|\\-aster| ter|[\\s]orour|didnt|[\\s]ine','',str(df['content'][index]))\n",
        "\n",
        "  #replacing anager with manager\n",
        "  df.loc[index,'content']=re.sub(' anager',' manager',str(df['content'][index]))\n",
        "\n",
        "  #replacing itor with monitor\n",
        "  df.loc[index,'content']=re.sub(' itor',' monitor',str(df['content'][index]))\n",
        "\n",
        " \n",
        "  #replacing nearuture with near future\n",
        "  df.loc[index,'content']=re.sub('nearuture','near future',str(df['content'][index]))\n",
        "\n",
        "   \n",
        "\n",
        "  #replacing nyway with way \n",
        "  df.loc[index,'content']=re.sub(' nyway',' way',str(df['content'][index]))\n",
        "\n",
        "\n",
        "  #replacing toind with find\n",
        "  df.loc[index,'content']=re.sub('toind','find',str(df['content'][index]))\n",
        "\n",
        "\n",
        "\n",
        "  #replacing ided with decide\n",
        "  df.loc[index,'content']=re.sub(' ided',' decide',str(df['content'][index]))\n",
        "\n",
        "\n",
        "\n",
        "\n",
        "\n",
        "\n"
      ],
      "execution_count": null,
      "outputs": []
    },
    {
      "cell_type": "code",
      "metadata": {
        "id": "8K6qXh9tNpcq"
      },
      "source": [
        "\n",
        "for index in range(df.shape[0]):\n",
        "\n",
        "  #replacing DCK with dick\n",
        "  df.loc[index,'content']=re.sub('DCK','dick',str(df['content'][index]))\n",
        "\n",
        "  #replacing aroundor with around \n",
        "  df.loc[index,'content']=re.sub('aroundor','around',str(df['content'][index]))\n",
        "\n",
        "  #removing Oracle,Name,Fw:,ichelle\n",
        "  df.loc[index,'content']=re.sub('Oracle|Name|Fw[\\s]*\\:|[\\s]ichelle','',str(df['content'][index]))\n",
        "\n",
        "\n",
        "\n",
        "\n",
        "  #replacing nuts with crazy\n",
        "  df.loc[index,'content']=re.sub('nuts','crazy',str(df['content'][index]))\n",
        "\n",
        "  #replacing auck,isucking,getucked with fuck\n",
        "  df.loc[index,'content']=re.sub('auck|isucking|getucked','fuck',str(df['content'][index]))\n",
        "\n",
        "  #replacing  fuckingucks with fuck suck\n",
        "  df.loc[index,'content']=re.sub('fuckingucks','fuck suck',str(df['content'][index]))\n",
        "\n",
        "\n",
        "  #replacing pimpin with pimp\n",
        "  df.loc[index,'content']=re.sub('pimpin','pimp',str(df['content'][index]))\n",
        "\n",
        "  #replacing srom with thing\n",
        "  df.loc[index,'content']=re.sub(' srom',' thing',str(df['content'][index]))\n",
        "\n",
        "\n",
        "\n",
        "\n",
        "\n",
        "\n"
      ],
      "execution_count": null,
      "outputs": []
    },
    {
      "cell_type": "code",
      "metadata": {
        "id": "sgiEdNAY8hiL"
      },
      "source": [
        "data=pd.DataFrame({'content':df['content'],'class':df['class']})\n",
        "data.to_csv('clean3.csv',index=False)"
      ],
      "execution_count": null,
      "outputs": []
    },
    {
      "cell_type": "code",
      "metadata": {
        "id": "NEXDh7Jcpdjt"
      },
      "source": [
        "df=pd.read_csv('clean3.csv')"
      ],
      "execution_count": null,
      "outputs": []
    },
    {
      "cell_type": "code",
      "metadata": {
        "id": "PzOzdUGV5Nj2"
      },
      "source": [
        "df.shape"
      ],
      "execution_count": null,
      "outputs": []
    },
    {
      "cell_type": "code",
      "metadata": {
        "id": "XtlJbeQjpjNQ"
      },
      "source": [
        "for index in range(df.shape[0]):\n",
        "\n",
        "  #removing ruary,eel,FW:,: dbCaps97Data,Variances detected,Varianceound,tblLoads,rror:\n",
        "  df.loc[index,'content']=re.sub('[\\s]ruary|FW:|: dbCaps97Data|Variances detected|Varianceound|tblLoads|rror:','',str(df['content'][index]))\n",
        "  \n",
        "  #removing words like :FWJ13_83JKDewwe,Received:\n",
        "  df.loc[index,'content']=re.sub(':[\\s]*[A-Z_0-9]+[A-Za-z0-9_]*|Received:','',str(df['content'][index]))\n",
        "\n",
        "\n",
        "  #replacing  nergy with energy ,xport with export \n",
        "  df.loc[index,'content']=re.sub(' nergy',' energy',str(df['content'][index]))\n",
        "  df.loc[index,'content']=re.sub(' xport',' export',str(df['content'][index]))\n",
        "\n",
        "\n",
        "\n",
        "  #removing words like +++ Hour 21 - bad datarom SO\n",
        "  df.loc[index,'content']=re.sub('\\+{3}[\\s]*Hour[\\s]*[0-9]+[\\s]*\\-[\\s]*bad[\\s]*datarom[\\s]*SO\\.','',str(df['content'][index]))\n",
        "\n"
      ],
      "execution_count": null,
      "outputs": []
    },
    {
      "cell_type": "code",
      "metadata": {
        "id": "v-pvAxacTkdF"
      },
      "source": [
        "for index in range(df.shape[0]):\n",
        "  #replacing getucked,SOucking,soucking,yourucking,justuck,singsucking,goingucking,uck,areuckingunny with fuck\n",
        "  df.loc[index,'content']=re.sub('getucked|SOucking|soucking|singsucking|justuck|goingucking|[\\s]uck|areuckingunny', 'fuck',str(df['content'][index]))\n",
        "\n",
        "  #removing U.S.A,U.S.,Kratish:,littlekitten02:,thisrom,' LST ',CLL\n",
        "\n",
        "  df.loc[index,'content']=re.sub('U\\.S\\.A|U\\.S\\.|Kratish:|littlekitten02:|thisrom|[\\s]LST[\\s]|[\\s]CLL[\\s]', '',str(df['content'][index]))\n",
        "\n",
        "\n",
        "  #replacing CRCK WHOR with crack whore\n",
        "  df.loc[index,'content']=re.sub('CRCK[\\s]*WHOR','crack whore',df['content'][index])\n",
        "\n",
        "  #replacing pigor with pig\n",
        "  df.loc[index,'content']=re.sub('pigor','pig',df['content'][index])\n",
        "\n",
        "  #replacing bootyrom  with booty\n",
        "  df.loc[index,'content']=re.sub('bootyrom','booty',df['content'][index])\n",
        "\n",
        "  #replacing fuckri,butuck,uck with fuck\n",
        "  df.loc[index,'content']=re.sub('fuckfri|butuck|[\\s]uck','fuck',df['content'][index])\n",
        "\n",
        "  #replacing dipshit with shit\n",
        "  df.loc[index,'content']=re.sub('dipshit','shit',df['content'][index])\n",
        "\n",
        "  #removing miami,mississippi\n",
        "  df.loc[index,'content']=re.sub('Miami|miami|mississippi|Mississippi','',df['content'][index])\n",
        "\n",
        "  #replacing titties with tits\n",
        "  df.loc[index,'content']=re.sub('titties','tits',df['content'][index])\n",
        "\n",
        "  #replacing exceptor with except\n",
        "  df.loc[index,'content']=re.sub('exceptor','except',df['content'][index])\n",
        "\n",
        "\n",
        "\n",
        "\n",
        "\n",
        "\n",
        "\n"
      ],
      "execution_count": null,
      "outputs": []
    },
    {
      "cell_type": "code",
      "metadata": {
        "id": "NZBgqYFKsqVk"
      },
      "source": [
        "for i in range(1438,1500):\n",
        "  print(i)\n",
        "  print()\n",
        "  print(df['content'][i])\n",
        "  print()"
      ],
      "execution_count": null,
      "outputs": []
    },
    {
      "cell_type": "code",
      "metadata": {
        "id": "gpaJK77T9y-O"
      },
      "source": [
        "data=pd.DataFrame({'content':df['content'],'class':df['class']})\n",
        "#data.to_csv('clean4.csv',index=False)"
      ],
      "execution_count": null,
      "outputs": []
    },
    {
      "cell_type": "code",
      "metadata": {
        "id": "Fyjc-9_F_Zr8"
      },
      "source": [
        "df=pd.read_csv('clean4.csv')\n",
        "df.shape"
      ],
      "execution_count": null,
      "outputs": []
    },
    {
      "cell_type": "code",
      "metadata": {
        "id": "nYuqlnW_-E7g"
      },
      "source": [
        "for index in range(df.shape[0]):\n",
        "\n",
        "  #removing word, Hourhead hour,irst,grade,table,Hour,8-Ball:,mail,ide,excelr,ision\n",
        "  df.loc[index,'content']=re.sub('Hourhead hour| irst|grade[\\s]|table|Trades|Hour|8-Ball:| mail| ide|excelr| ision','',str(df['content'][index]))\n",
        "\n",
        "  #replacing shitrom with shit\n",
        "  df.loc[index,'content']=re.sub('shitrom','shit',str(df['content'][index]))\n",
        "\n",
        "  #replacing eneration with generation\n",
        "  df.loc[index,'content']=re.sub(' eneration',' generation',str(df['content'][index]))\n",
        "\n",
        "  #replacing theront with front\n",
        "  df.loc[index,'content']=re.sub('theront', 'front',str(df['content'][index]))\n",
        "\n",
        "  #removing rican and ian,rade,downor,upor,timeor,Sorryor,Utilicorp,themor,onlyor,pply\n",
        "  df.loc[index,'content']=re.sub('[\\s]rican|[\\s]ian|[\\s]rade|downor|upor|timeor|Sorryor|Utilicorp|[\\s]pply|onlyor|themor', '',str(df['content'][index]))\n",
        " \n",
        "\n",
        "  #replacing ssholes and sshole with asshole\n",
        "  df.loc[index,'content']=re.sub('[\\s]ssholes|[\\s]sshole', 'asshole',str(df['content'][index]))\n",
        "\n",
        "  #removing Thanks,slamic,aollow,theirst,Houston,Thanks!,Hello,youor,houston,vegas\n",
        "  df.loc[index,'content']=re.sub('Thanks\\,|[\\s]slamic|Islamic|islamic|aollow|theirst|Houstan|houstan|vegas|Vegas|Thanks[\\s]*\\!|Thanks\\.|Thanks|Hello\\,|youor', '',str(df['content'][index]))\n",
        "\n",
        "  \n",
        "\n",
        "\n",
        "   \n",
        "  \n",
        "  \n",
        "\n",
        "\n",
        "\n",
        "\n"
      ],
      "execution_count": null,
      "outputs": []
    },
    {
      "cell_type": "code",
      "metadata": {
        "id": "kc5QoX-qqbvr"
      },
      "source": [
        "for index in range(df.shape[0]):\n",
        "  #removing sentences like ( / Preferred.00 / Final.20),tblnt_nterchange.,tblNTCH_PXP.\n",
        "  df.loc[index,'content']=re.sub('\\([\\s]*\\/[\\s]*Preferred\\.[0-9]+[\\s]*\\/[\\s]*Final\\.[0-9]+\\)|tblnt_nterchange\\.|tblNTCH_PXP\\.', '',str(df['content'][index]))\n",
        "\n",
        "  #removing dates of format /dd/mm,dbCaps97Data:,ancillary, schedules,energy,mport,xport\n",
        "  df.loc[index,'content']=re.sub('\\/[0-9]+\\/[0-9]+\\/|dbCaps97Data\\:|ancillary|schedule[s]*|energy|[\\s]xport|[\\s]mport','',df['content'][index])\n",
        "\n",
        "  #removing sentences of O:\\Portland\\WestDesk\\\\SO Final  pattern\n",
        "  df.loc[index,'content']=re.sub('O:\\\\[A-Z][a-z]+\\\\[A-Z][a-z]+\\\\[A-Z]+[a-z]*[A-Z][a-z]+', '',str(df['content'][index]))\n",
        "\n",
        "\n",
        "  #removing Schedules\\2001040906.txt ,isor,rom,yourom,theorty,Btu/d,nbsp\n",
        "  df.loc[index,'content']=re.sub('Schedules\\\\[0-9]+\\.txt|[\\s]isor[\\s]rom|yourom|theorty|Btu\\/d|nbsp','',df['content'][index])\n",
        "\n",
        "\n",
        "  #replacing pigsrom with pig\n",
        "  df.loc[index,'content']=re.sub('pigsrom','pig',df['content'][index])\n",
        "\n",
        "  #replacing ttached or attached with attach\n",
        "  df.loc[index,'content']=re.sub('attached|ttached','attach',df['content'][index])\n",
        "  \n",
        "\n"
      ],
      "execution_count": null,
      "outputs": []
    },
    {
      "cell_type": "code",
      "metadata": {
        "id": "i7vMc0XJqb10"
      },
      "source": [
        "for index in range(df.shape[0]):\n",
        "\n",
        "  #removing theollowing,ariend,!!! user transaction is already in progress.yriend,will not,Synchronizing ailbox,re,about,season\n",
        "  df.loc[index,'content']=re.sub('theollowing|ariend|!!! user transaction is already in progress\\.|myriend|yriend|will not|Synchronizing ailbox|[\\s]re|about|season','',df['content'][index])\n",
        "\n",
        "  #removing ticket,because,school\n",
        "  df.loc[index,'content']=re.sub('ticket[s]*|because|school','',df['content'][index])\n",
        "\n",
        "  #removing directions,score,eye,pants,shirts,bathroom\n",
        "  df.loc[index,'content']=re.sub('south|South|north|North|east|East|west|West|score|eye|pants|shirts|bathroom','',df['content'][index])\n",
        "\n",
        "\n",
        "  #removing colors ,truck,seat,door,years,day,Day,night,Night,minute,single,double,degrees\n",
        "  df.loc[index,'content']=re.sub('red|green|blue|yellow|truck|seat|door[s]*|year[s]*|Day|[\\s]day|Night|night|minute[s]*|single|double|degree[s]*','',df['content'][index])\n",
        "\n",
        "  #removing some words which represent numbers\n",
        "  df.loc[index,'content']=re.sub('four|five|six|one|two|nine|second|first','',df['content'][index])"
      ],
      "execution_count": null,
      "outputs": []
    },
    {
      "cell_type": "code",
      "metadata": {
        "id": "tXqjCYHWb_HA"
      },
      "source": [
        "for index in range(df.shape[0]):\n",
        "  \n",
        "  \n",
        "  \n",
        "#removing Cc,theourth,isor,ny,any,original,thurs,CLLS,quarter,Nebraska\n",
        "\n",
        "  df.loc[index,'content']=re.sub('Cc|[\\s]theourth[\\s]|isor|[\\s]ny|any|original|[\\s]thurs[\\s]|[\\s]CLLS[\\s]|quarter|Nebraska','',str((df['content'][index])))\n",
        "\n",
        "  #removing words like cell phone,store,BEER,bEER,Texas,money,week\n",
        "  df.loc[index,'content']=re.sub('cell phone|Phone|store[s]*|Store[s]*|Beer|beer|Texas|money|week','',df['content'][index])\n",
        "\n",
        "  #removing entities which represent time\n",
        "  df.loc[index,'content']=re.sub('tomorrow|today|yesterday|next|Next|previous|Previous|when|When','',df['content'][index])"
      ],
      "execution_count": null,
      "outputs": []
    },
    {
      "cell_type": "code",
      "metadata": {
        "id": "3W5CEFJOwJjy"
      },
      "source": [
        "data=pd.DataFrame({'content':df['content'],'class':df['class']})\n",
        "#data.to_csv('clean5.csv',index=False)"
      ],
      "execution_count": null,
      "outputs": []
    },
    {
      "cell_type": "code",
      "metadata": {
        "id": "Z6LlpkyWx51j"
      },
      "source": [
        "df=pd.read_csv('clean6.csv')\n",
        "df.shape"
      ],
      "execution_count": null,
      "outputs": []
    },
    {
      "cell_type": "code",
      "metadata": {
        "id": "r4t9T8kzx_7A"
      },
      "source": [
        "for index in range(df.shape[0]):\n",
        "\n",
        "  #removing words like FRDS_JKDS_KJDS,address,same,things,,?,again\n",
        "  df.loc[index,'content']=re.sub('[A-Z]{1,}[A-Z\\_]+|Santa|Jesus|room|same|thing[s]*|JSUS|SNT CLUS|address|some|\\?{1,}|again','',str(df['content'][index]))\n",
        "\n",
        "  #removing words like computer,sea,food,little,water,already,now\n",
        "  df.loc[index,'content']=re.sub('computer[s]*|Computer[s]*|sea|food|little|water|already|Because|now','',str(df['content'][index]))\n",
        "\n",
        "  #removing words like,message,business,world\n",
        "  df.loc[index,'content']=re.sub('message[s]*|business|world','',str(df['content'][index]))\n",
        "\n",
        "\n",
        "  #removing words like X-Version:er--daemon,v 1.84\n",
        "  df.loc[index,'content']=re.sub('X\\-Version:er\\-{2}[a-z]+\\,[a-z]+[\\s]*[0-9]\\.[0-9]+|y Portfolio:|y Fool\\.com Home:SPONSORD BY:|RUL BRKR BY STTSTCS|SPCL RS S NO B WHOOP|UR WYS TO SZ UP  BROKR','',str(df['content'][index]))\n",
        "\n",
        "  #removing words like FOOL ON TH HLL STPS TO RTRNT,NWS UP FOR TVO,OPNON KRSPY KR TH NXT BOSTON CHCKN?\n",
        "  df.loc[index,'content']=re.sub('FOOL ON TH HLL STPS TO RTRNT|NWS: , BRKSHR DUL OVR FNOV|NWS UP FOR TVO|OPNON KRSPY KR TH NXT BOSTON CHCKN\\?','',str(df['content'][index]))\n",
        "\n",
        "\n",
        "  #removing FOR  COPLTOF TODY'S STORS, CLCK TH LNK BLOW.,PPL ND TH FLP OVR FLOPPS,DON TH SPLTS\n",
        "  df.loc[index,'content']=re.sub(\"FOR  COPLTOF TODY'S STORS, CLCK TH LNK BLOW\\.|PPL ND TH FLP OVR FLOPPS|DON TH SPLTS\",'',str(df['content'][index]))\n",
        "\n",
        "  #removing KN N OFFR ON THT NW HO,NWS YR FOR OODYR?,FOR  COPLTOF TODY'S STORS, CLCK TH LNK BLOW.,NYBODY HV  PR?\n",
        "  df.loc[index,'content']=re.sub(\"KN N OFFR ON THT NW HO|OR HOT TOPCS|NWS YR FOR OODYR\\?|FOR  COPLTOF TODY'S STORS, CLCK TH LNK BLOW\\.|NYBODY HV  PR\\?\",'',str(df['content'][index]))\n"
      ],
      "execution_count": null,
      "outputs": []
    },
    {
      "cell_type": "code",
      "metadata": {
        "id": "tG7d7Sntjz26"
      },
      "source": [
        "for index in range(df.shape[0]):\n",
        "\n",
        "  #removing words like million,currently,billion,bank,car,myirt\n",
        "  df.loc[index,'content']=re.sub('million[s]*|illion[s]*|billion[s]*|Billion[s]*|currently|[Bb]ank[s]*|[cC]ar[s]*|[m]*yirt','',df['content'][index])\n",
        "\n",
        "  #removing entities like day,night,morning,evening,dollor,time,information,month,place,am,pm,party,system\n",
        "  df.loc[index,'content']=re.sub('morning|evening|night|dollor[s]*|[tT]ime[s]*|month|place|[\\s]am[\\s]|[\\s]pm[\\s]|system','',df['content'][index])\n",
        "\n",
        "  #removing words like phone number or number,words like H18-23 PT\n",
        "  df.loc[index,'content']=re.sub('phone number|ph number|number|[A-Z][0-9]+\\-[0-9]+ [A-Z]*','',df['content'][index])\n",
        "\n",
        "  #removing words like house,home,restaurant,hotel,bottle,account,country,government,song,condo,glass,cash,tree,eggs\n",
        "  df.loc[index,'content']=re.sub('house[s]*|home[s]*|hotel[s]*|restaurant[s]*|bottle|account[s]*|government|tree|country|egg|song|glass|condo|cash','',df['content'][index])\n",
        "\n",
        "\n",
        "  #removing words like D/D Chic-HHub,V-6,V-7,cycle\n",
        "  df.loc[index,'content']=re.sub('D\\/D[\\s]*[a-zA-Z]+\\-[a-zA-Z]+|V\\-[0-9]','',df['content'][index])\n",
        "\n",
        "\n",
        "  #removing words, University,lsu,story,electricity,gas,project,position,grid\n",
        "  df.loc[index,'content']=re.sub('[Uu]niversity|lsu|story|electricity|gas|project|manager|position|daily|grid','',df['content'][index])\n",
        "\n",
        "\n",
        "  #removing words, Location,gate,question,property,trades,amount,current\n",
        "  df.loc[index,'content']=re.sub('[lL]ocation|gate|[qQ]uestion[s]*|[Pp]roperty|[Mm]onthly|trades[s]*|amount|current','',df['content'][index])"
      ],
      "execution_count": null,
      "outputs": []
    },
    {
      "cell_type": "code",
      "metadata": {
        "id": "6EBbKQIAzRBs"
      },
      "source": [
        "for index in range(df.shape[0]):\n",
        "\n",
        "  #removing words,units ,street,book,information,apartment,language\n",
        "  df.loc[index,'content']=re.sub('[Uu]nit[s]*|program|street|[\\s]book[s]*[\\s]|information|apartment[s]*|language[s]*','',df['content'][index])\n",
        "\n",
        "  #removing words,website,pipelines,century,page ,browser,,games,cycle,bike,Phillip,\n",
        "  df.loc[index,'content']=re.sub('website[s]*|pipeline[s]*|century|page[s]?|browser|[Pp]ublication[s]?|game[s]?|cycle|byke|[pP]hillip','',df['content'][index])\n",
        "\n",
        "  #removing words,password,URL,url, panel,policy\n",
        "  df.loc[index,'content']=re.sub('password|URL[Ss]*|url[s]*|panel','',df['content'][index])"
      ],
      "execution_count": null,
      "outputs": []
    },
    {
      "cell_type": "code",
      "metadata": {
        "id": "SRfQB1j5TEyT"
      },
      "source": [
        "for index in range(df.shape[0]):\n",
        "\n",
        "  #removing words,cycle,bike,disk,disc,Houston,astern,China,percent,vehicle\n",
        "  df.loc[index,'content']=re.sub('cycle[s]*|bike[s]*|[\\s]disk[\\s]|disc|[\\s]astern|China|percent|vehicle[s]*','',df['content'][index])\n",
        "\n",
        "\n",
        "\n",
        "  #removing words ,photo,video,audio,league,Football,Basketball,certificate\n",
        "  df.loc[index,'content']=re.sub('photo[s]*|video[s]*|audio[s]*|league[s]*|Football[s]*|Basketball[s]*|certificate[s]*','',df['content'][index])\n",
        "\n",
        "\n",
        "\n",
        "  #removing words,toys,book,magazine,calendar,period,window\n",
        "  df.loc[index,'content']=re.sub('word[s]*|toy[s]*|[\\s]book[s]*|[Mm]agazine[s]*|calendar|period[s]*|window[s]*','',df['content'][index])\n",
        "\n",
        "\n",
        "\n",
        "  #removing words,screen,digital,digit,Corp.,paragraph\n",
        "  df.loc[index,'content']=re.sub('screen|digital|digit[s]*|[cC]orp\\.|paragraph[s]*|advertisement[s]*','',df['content'][index])\n",
        "\n",
        "\n",
        "\n",
        "  #removing words,Web,stories,desk,storage,media\n",
        "  df.loc[index,'content']=re.sub('[wW]eb|stories|story|desk[s]*|storage[s]*|media','',df['content'][index])\n",
        "\n",
        "\n",
        "\n",
        "  #removing words,Thank you, \n",
        "  df.loc[index,'content']=re.sub('Thank you,','',df['content'][index])\n",
        "\n",
        "\n",
        "\n",
        "  #replacing toceive with receive\n",
        "  df.loc[index,'content']=re.sub('toceive','receive',df['content'][index])\n",
        "\n",
        "  #replacing toview with view\n",
        "  df.loc[index,'content']=re.sub('toview','view',df['content'][index])\n",
        "\n",
        "\n",
        "\n",
        "  #replacing thisquest with request\n",
        "  df.loc[index,'content']=re.sub('thisquest','request',df['content'][index])\n",
        "\n",
        "\n",
        "\n",
        "  #replacing inancial with financial\n",
        "  df.loc[index,'content']=re.sub('financial|inancial','inancial',df['content'][index])\n",
        "\n",
        "  #replacing opporty,opporties with opportunity\n",
        "  df.loc[index,'content']=re.sub('opportunity|opporty|opporties','opportunity',df['content'][index])"
      ],
      "execution_count": null,
      "outputs": []
    },
    {
      "cell_type": "code",
      "metadata": {
        "id": "wpWKIIUOhi8B"
      },
      "source": [
        "for index in range(df.shape[0]):\n",
        "\n",
        "  #replacing riends with friend\n",
        "  df.loc[index,'content']=re.sub('friends|riends',' friend',df['content'][index])\n",
        "\n",
        "  #replacing eeedback with feedback\n",
        "  df.loc[index,'content']=re.sub('feedback|eedback',' feedback',df['content'][index])\n",
        "\n",
        "  #removing words,office,London,document,grocery,ddress,lso,data,sumy\n",
        "  df.loc[index,'content']=re.sub('London|office[s]*|document[s]*|grocery|address|ddress|lso|data|[\\s]sumy[\\s]','',df['content'][index])\n",
        "\n",
        "  #removing words,oil,ocean,ulf,exico,date,Hotel,Restaurant,house,hospital\n",
        "  df.loc[index,'content']=re.sub('[Oo]il|[Oo]cean[s]*|[\\s]ulf[\\s]|exico[\\s]|date[s]*|[Hh]otel[s]*|[Rr]estaurant[s]*|[hH]ouse[s]*|[Hh]ospital[s]*','',df['content'][index])\n",
        "\n",
        "  #removing words Canada,ket,online,tospond\n",
        "  df.loc[index,'content']=re.sub('Canada|[\\s]ket|online|tospond','',df['content'][index])\n",
        "\n",
        "  #replacing arn with learn\n",
        "  df.loc[index,'content']=re.sub(' arn','learn',df['content'][index])\n",
        "\n",
        "  #removing \n",
        "\n"
      ],
      "execution_count": null,
      "outputs": []
    },
    {
      "cell_type": "code",
      "metadata": {
        "id": "0cMIAsg51F53"
      },
      "source": [
        "#Last Name.txt contains list of most common names\n",
        "df1=pd.read_csv('Last Name.txt',names=['name'])\n",
        "\n",
        "#creating pattern\n",
        "s=''\n",
        "for i in range(df1.shape[0]):\n",
        "  if i!=df1.shape[0]-1:\n",
        "    s=s+str(df1['name'][i]).capitalize()+'|'\n",
        "  else:\n",
        "    s=s+str(df1['name'][i]).capitalize()\n",
        "\n",
        "\n",
        "#now removing the names from our data\n",
        "for index in range(df.shape[0]):\n",
        "  if index%100==0:\n",
        "    print(index)\n",
        "  df.loc[index,'content']=re.sub(s,'',df['content'][index])\n",
        "\n",
        "\n",
        "\n",
        "\n"
      ],
      "execution_count": null,
      "outputs": []
    },
    {
      "cell_type": "code",
      "metadata": {
        "id": "U8L2igCcBxr2"
      },
      "source": [
        "#uscities.xlsx contains list of all the cities and states of usa\n",
        "df_us=pd.read_excel('uscities.xlsx')\n",
        "city=df_us[['city']]\n",
        "city=city.drop_duplicates()\n",
        "city.index=[x for x in range(city.shape[0])]\n",
        "\n",
        "#creating the pattern\n",
        "s=''\n",
        "for i in range(city.shape[0]):\n",
        "  if i!=city.shape[0]-1:\n",
        "    s=s+str(city['city'][i])+'|'\n",
        "  else:\n",
        "    s=s+str(city['city'][i])\n",
        "\n",
        "\n",
        "#now removing city names form data\n",
        "\n",
        "for index in range(df.shape[0]):\n",
        "  if index%100==0:\n",
        "    print(index)\n",
        "  df.loc[index,'content']=re.sub(s,'',df['content'][index])\n",
        "\n"
      ],
      "execution_count": null,
      "outputs": []
    },
    {
      "cell_type": "code",
      "metadata": {
        "id": "mm2ZGFe81kd5"
      },
      "source": [
        "for i in range(df.shape[0]):\n",
        "  if 'Stephanie' in df['content'][i]:\n",
        "    print(i)"
      ],
      "execution_count": null,
      "outputs": []
    },
    {
      "cell_type": "code",
      "metadata": {
        "id": "dWobh1HDJeFm"
      },
      "source": [
        "for index in range(df.shape[0]):\n",
        "\n",
        "  #replacing haveceived,ceived with receive\n",
        "  df.loc[index,'content']=re.sub('haveceived|[\\s]ceived','receive',df['content'][index])\n",
        "\n",
        "  #replacing cquisition with acquisition\n",
        "  df.loc[index,'content']=re.sub('acquisition|cquisition','acquisition',df['content'][index])\n",
        "\n",
        "  #replacing 'llind with find\n",
        "  df.loc[index,'content']=re.sub(\"'llind\",'',df['content'][index])\n",
        "\n",
        "  #replacing tospond with respond\n",
        "  df.loc[index,'content']=re.sub(\"tospond\",'respond',df['content'][index])\n",
        "\n",
        "  #replacing isine with fine\n",
        "  df.loc[index,'content']=re.sub(\"isine\",'fine',df['content'][index])\n",
        "\n",
        "\n",
        "\n",
        "  #removing words, hour,min.,myirst ,asar,houston,coffee\n",
        "  df.loc[index,'content']=re.sub(\"hour|min\\.|myirst|asar|houston|coffee\",'',df['content'][index])\n",
        "\n",
        "  #replacing ,uss with discuss\n",
        "  df.loc[index,'content']=re.sub(\" ussed|[\\s]uss\",'discuss',df['content'][index])\n",
        "\n",
        "  #replacing needor with need\n",
        "  df.loc[index,'content']=re.sub(\"needor\",'need',df['content'][index])\n",
        "\n",
        "  #replacing toinish wiht finish\n",
        "  df.loc[index,'content']=re.sub(\"toinish\",\"finish\",df['content'][index])\n",
        "\n",
        "  #replacing lieve with believe\n",
        "  df.loc[index,'content']=re.sub(\" lieve\",\"believe\",df['content'][index])\n",
        "\n",
        "  #replacing waitsor wiht wait\n",
        "  df.loc[index,'content']=re.sub(\"waitsor\",\"wait\",df['content'][index])\n",
        "\n",
        "  #removing and , nd,ccount,account\n",
        "  df.loc[index,'content']=re.sub(\"[\\s]and|[\\s]nd|account| ccount\",\"\",df['content'][index])\n",
        "\n",
        "  #replacing touck,everyucking wiht fuck\n",
        "  df.loc[index,'content']=re.sub(\"touck|everyucking\",\"fuck\",df['content'][index])\n",
        "\n",
        "  #replacing emergedrom wiht emerge\n",
        "  df.loc[index,'content']=re.sub(\"emergedrom\",\"emerge\",df['content'][index])\n",
        "\n",
        "  \n",
        "\n",
        "  \n",
        "\n",
        "\n",
        "\n",
        "\n",
        "\n",
        "\n"
      ],
      "execution_count": null,
      "outputs": []
    },
    {
      "cell_type": "code",
      "metadata": {
        "id": "qF2dc_QV2496"
      },
      "source": [
        "data=pd.DataFrame({'content':df['content'],'class':df['class']})\n",
        "data.to_csv('clean7.csv',index=False)"
      ],
      "execution_count": null,
      "outputs": []
    },
    {
      "cell_type": "code",
      "metadata": {
        "id": "hiGWU2Lb2_xC"
      },
      "source": [
        "df=pd.read_csv('clean7.csv', error_bad_lines=False)\n",
        "df.shape"
      ],
      "execution_count": null,
      "outputs": []
    },
    {
      "cell_type": "code",
      "metadata": {
        "id": "yICcKuZu35UU"
      },
      "source": [
        "for index in range(df.shape[0]):\n",
        "  \n",
        "  \n",
        "  #removing words,shares,stock,summer,winter,dinner,lunch,mmunication\n",
        "  df.loc[index,'content']=re.sub('share[s]*|stock|summer[\\s]|winter|dinner|lunch|communication|mmunication','',str(df['content'][index]))\n",
        "\n",
        "  #replacing Pls  wiht please\n",
        "  df.loc[index,'content']=re.sub('Pls','please',df['content'][index])\n",
        "\n",
        "  #removing words like 7th,3rd\n",
        "  df.loc[index,'content']=re.sub('[0-9]{1,}[a-z]+','',df['content'][index])\n",
        "\n",
        "\n",
        "  #removing words like mobile,fax,name,dollar,P&L,natural\n",
        "  df.loc[index,'content']=re.sub('mobile|fax|name|dollar[s]*|P\\&L|natural','',df['content'][index])\n",
        "\n",
        "\n",
        "  #replacing muchun wiht much fun\n",
        "  df.loc[index,'content']=re.sub('muchun','much fun',df['content'][index])\n",
        "\n",
        "  #remving words,site,irport,box,campus,tournament,announcement,announce,commercial\n",
        "  df.loc[index,'content']=re.sub('[\\s]site[\\s]|airport|[\\s]irport|[\\s]box|campus|tournament|announcement|announce|commercial','',df['content'][index])\n",
        "\n",
        "  \n",
        "  #removing words,assessment,group,theile \n",
        "  df.loc[index,'content']=re.sub('assessment[s]*|group[s]*|theile','',df['content'][index])\n"
      ],
      "execution_count": null,
      "outputs": []
    },
    {
      "cell_type": "code",
      "metadata": {
        "id": "wia_a9lDJY7H"
      },
      "source": [
        "for index in range(df.shape[0]):\n",
        "    #removing some common occuring words\n",
        "    df.loc[index,'content']=re.sub('historical|noon|picture[s]*|celebrities|celebrity|budget|budgetary|employee[s]*|employer','',str(df['content'][index]))\n",
        "    \n",
        "    df.loc[index,'content']=re.sub('job[s]*|customer[s]*|stuff|newsletter|brokerage|industry|electric','',df['content'][index])\n",
        "    \n",
        "    \n",
        "    df.loc[index,'content']=re.sub('curve[s]*|commodities|commodity|department|index[s]*|paper[s]*|electronic[s]*|cabinet[s]*|drawer[s]*|crude|pipe[s]*','',df['content'][index])\n",
        "\n",
        "    \n",
        "    df.loc[index,'content']=re.sub('player[s]*|public|internet|private|clock|international[s]*|coast[s]*|city|volume','',df['content'][index])\n",
        "    \n",
        "    #removing some words which represent numerical values\n",
        "    df.loc[index,'content']=re.sub('two|three|four|five|six|seven|eight','',df['content'][index])\n",
        "    \n",
        "    df.loc[index,'content']=re.sub('instrument[s]*|baseball[s]*|natural|entity|upunds|[\\s]ussion|commercial[s]*|investment|[\\s]rate[s]*','',df['content'][index])\n",
        "    \n",
        "    #replacing likeor with like\n",
        "    df.loc[index,'content']=re.sub('likeor','like',df['content'][index])"
      ],
      "execution_count": null,
      "outputs": []
    },
    {
      "cell_type": "code",
      "metadata": {
        "id": "akJpqX1jJAnq"
      },
      "source": [
        "for index in range(df.shape[0]):\n",
        "    \n",
        "    #removing words\n",
        "    df.loc[index,'content']=re.sub('[\\s]cable[s]*|hour[s]*|mrket|laboratory|electron[s]*|california|[\\s]fornia|canon|liquid[s]*|cocktail[s]*','',df['content'][index])\n",
        "    \n",
        "    df.loc[index,'content']=re.sub('mkt|[Ii]reland|product[s]*|temperature[s]*|[\\s]nternet|grade[s]*|companies|agriculture','',df['content'][index])\n",
        "    \n",
        "    df.loc[index,'content']=re.sub('dinner[s]*|lunch|delta[s]*|microsoft|chart[s]*','',df['content'][index])\n",
        "    \n",
        "    df.loc[index,'content']=re.sub('financial|[\\s]inancial|attachment[s]*|air|wood[s]*|power plant[s]*|corporate[s]*','',df['content'][index])\n",
        "    \n",
        "    df.loc[index,'content']=re.sub('australia|[\\s]ustralia|ph\\.|morning[s]*|[\\s]orning[s]*|whole|annual|annually|software','',df['content'][index])\n",
        "\n"
      ],
      "execution_count": null,
      "outputs": []
    },
    {
      "cell_type": "code",
      "metadata": {
        "id": "3lPIyaJkLjaG"
      },
      "source": [
        "for index in range(df.shape[0]):\n",
        "    \n",
        "    #removing words\n",
        "\n",
        "\n",
        "    df.loc[index,'content']=re.sub('golf','',df['content'][index])\n",
        "\n",
        "\n",
        "    df.loc[index,'content']=re.sub('[Dd]esktop[s]*|orange[s]*|bowl[s]*|graphic[s]*|wallet[s]*|aluminum|[\\s]luminum|item[s]*','',df['content'][index])\n",
        "\n",
        "    df.loc[index,'content']=re.sub('satellite[s]*|[Mm]obile[s]*|[Ff]ax|dollar[s]*|summer[s]*|winter[s]*|online|early|earlier','',df['content'][index])"
      ],
      "execution_count": null,
      "outputs": []
    },
    {
      "cell_type": "code",
      "metadata": {
        "id": "DWCrYthATeV7"
      },
      "source": [
        "#removing some words which doesn't convey any significant info\n",
        "for index in range(df.shape[0]):\n",
        "  \n",
        "  \n",
        "  \n",
        "    \n",
        "#removing words  [Some word]_TYPE, SC_I\n",
        "  df.loc[index,'content']=re.sub('TRNS_[a-zA-Z]*|[a-zA-Z]+[\\s]*[\\_]TYPE|SC_I|[a-zA-Z]+[\\s]I_CISO_|[a-zA-Z]+[\\s]I|TRA[\\s]*ING_SC|ISO',' ',str(df['content'][index]))\n",
        "  df.loc[index,'content']=re.sub('PURCH_SL|Final schedule not found for preferred schedule[.]|Details\\:|TRDN_SC','',df['content'][index])\n",
        "  df.loc[index,'content']=re.sub('[A-Z]*_TYP|[A-Z]*_PONT|NTRCH_D|SC_D: CTRT|PNT_OF_NTRC|SC_D|FNL|DL_NO','',df['content'][index])"
      ],
      "execution_count": null,
      "outputs": []
    },
    {
      "cell_type": "code",
      "metadata": {
        "id": "9Tx_IpaRThM9"
      },
      "source": [
        "for index in range(df.shape[0]):\n",
        "  \n",
        "  #replacing sk with ask,et with set, bout with about\n",
        "  df.loc[index,'content']=re.sub(' sk',' ask',df['content'][index])\n",
        "  df.loc[index,'content']=re.sub(' et',' set',df['content'][index])\n",
        "  df.loc[index,'content']=re.sub(' bout',' about',df['content'][index])\n",
        " \n",
        "\n",
        "  #replacing ver with ever\n",
        "  df.loc[index,'content']=re.sub(' ver',' ever',df['content'][index])\n",
        " \n",
        "\n",
        "  \n",
        "  #replacing ember with member\n",
        "  df.loc[index,'content']=re.sub(' ember',' member',df['content'][index])\n",
        "\n",
        "  #replacing cceptable  with accept\n",
        "  df.loc[index,'content']=re.sub(' cceptable',' accept',df['content'][index])\n",
        "\n",
        "\n",
        "\n",
        "  \n",
        "  \n",
        "  \n",
        "  \n",
        " \n",
        "\n",
        "  \n",
        "\n",
        "  #removing Thanks,etc, ll and all,if,Wine,fter,after,i've,'ve\n",
        "  df.loc[index,'content']=re.sub(\"i've|'ve|fter|afterThanks,|[\\s]etc|Best\\,|[\\s]ll|[\\s]all|[\\s]if|[\\s]f|Wine|wine|[\\s]merica\",'',df['content'][index])"
      ],
      "execution_count": null,
      "outputs": []
    },
    {
      "cell_type": "code",
      "metadata": {
        "id": "GPhM-bjZTmYZ"
      },
      "source": [
        "for index in range(df.shape[0]):\n",
        "  \n",
        "  #replacing theuck and F--- with fuck,aucking, ucking,getucked with fuck\n",
        "  df.loc[index,'content']=re.sub('[\\s]theuck|F\\-\\-\\-|FUCKN|aucking|[\\s]ucking|getucked',' fuck',df['content'][index])\n",
        "  #replacing acceptance with accept\n",
        "  df.loc[index,'content']=re.sub('acceptance','accept',df['content'][index])\n",
        "\n",
        "  #removing sender,Thank you.\n",
        "  df.loc[index,'content']=re.sub('sender|Thank you\\.','',df['content'][index])\n",
        "\n",
        "  #replacing DCKHD with cock\n",
        "  df.loc[index,'content']=re.sub('DCKHD','cock',df['content'][index])\n",
        "\n",
        "  #replacing SSHOL with asshole \n",
        "  df.loc[index,'content']=re.sub(' SSHOL','asshole',df['content'][index])\n",
        "\n",
        "  \n"
      ],
      "execution_count": null,
      "outputs": []
    },
    {
      "cell_type": "code",
      "metadata": {
        "id": "-FnwXRlDTpws"
      },
      "source": [
        "for index in range(df.shape[0]):\n",
        "  #removing 'img' followed by some digits and characters\n",
        "  df.loc[index,'content']=re.sub('img[0-9]+[\\S]+|T&S|NPN','',df['content'][index])\n",
        "\n",
        "\n",
        "  #removing rror:,Cannot perform this operation on a closed database,3D,OL Object: Picture (etafile)\n",
        "  df.loc[index,'content']=re.sub('OL Object: Picture\\(etafile\\)|error\\:|Cannot perform this operation on a closed database|3D','',df['content'][index])\n",
        "\n",
        "  #removing word Regards ,lias: dbCaps97Data,lias\n",
        "  df.loc[index,'content']=re.sub('[\\W]lias|Regards|lias: dbCaps97Data|Not enough space on disk|\\!\\!\\!nsufficient disk space.','',df['content'][index])"
      ],
      "execution_count": null,
      "outputs": []
    },
    {
      "cell_type": "code",
      "metadata": {
        "id": "z99yO56DTu5h"
      },
      "source": [
        "for index in range(df.shape[0]):\n",
        "\n",
        "     #replacing goodor with good\n",
        "  df.loc[index,'content']=re.sub('goodor','good',str(df['content'][index]))\n",
        "\n",
        "  #removing Word Zone followed by some digit,-aster,ter,orour(with stands for orfour),ine\n",
        "  df.loc[index,'content']=re.sub('Zone[\\s][0-9]*|\\-aster| ter|[\\s]orour|didnt|[\\s]ine','',str(df['content'][index]))\n",
        "\n",
        "  #replacing anager with manager\n",
        "  df.loc[index,'content']=re.sub(' anager',' manager',str(df['content'][index]))\n",
        "\n",
        "  #replacing itor with monitor\n",
        "  df.loc[index,'content']=re.sub(' itor',' monitor',str(df['content'][index]))\n",
        "\n",
        "  \n",
        " \n",
        "\n",
        " \n",
        "  #replacing nearuture with near future\n",
        "  df.loc[index,'content']=re.sub('nearuture','near future',str(df['content'][index]))\n",
        "\n",
        "   \n",
        "\n",
        "  #replacing nyway with way \n",
        "  df.loc[index,'content']=re.sub(' nyway',' way',str(df['content'][index]))\n",
        "\n",
        "\n",
        "  #replacing toind with find\n",
        "  df.loc[index,'content']=re.sub('toind','find',str(df['content'][index]))\n",
        "\n",
        "\n",
        "\n",
        "  #replacing ided with decide\n",
        "  df.loc[index,'content']=re.sub(' ided',' decide',str(df['content'][index]))\n",
        "\n",
        "\n"
      ],
      "execution_count": null,
      "outputs": []
    },
    {
      "cell_type": "code",
      "metadata": {
        "id": "qECJ7ka7T2O0"
      },
      "source": [
        "\n",
        "for index in range(df.shape[0]):\n",
        "\n",
        "\n",
        "     #replacing DCK with dick\n",
        "  df.loc[index,'content']=re.sub('DCK','dick',str(df['content'][index]))\n",
        "\n",
        "  #replacing aroundor with around \n",
        "  df.loc[index,'content']=re.sub('aroundor','around',str(df['content'][index]))\n",
        "\n",
        "\n",
        "data analysis\n",
        "\n",
        " \n",
        " \n",
        "\n",
        " #replacing DCK with dick\n",
        "  df.loc[index,'content']=re.sub('DCK','dick',str(df['content'][index]))\n",
        "\n",
        "  #replacing aroundor with around \n",
        "  df.loc[index,'content']=re.sub('aroundor','around',str(df['content'][index]))\n",
        "\n"
      ],
      "execution_count": null,
      "outputs": []
    },
    {
      "cell_type": "code",
      "metadata": {
        "id": "4v9s2mWuT60_"
      },
      "source": [
        "for index in range(df.shape[0]):\n",
        "\n",
        "\n",
        "  #removing word, Hourhead hour,irst,grade,table,Hour,8-Ball:,mail,ide,excelr,ision\n",
        "  df.loc[index,'content']=re.sub('Hourhead hour| irst|grade[\\s]|table|Trades|Hour|8-Ball:| mail| ide|excelr| ision','',str(df['content'][index]))\n",
        "\n",
        "  #replacing shitrom with shit\n",
        "  df.loc[index,'content']=re.sub('shitrom','shit',str(df['content'][index]))\n",
        "\n",
        "  #replacing eneration with generation\n",
        "  df.loc[index,'content']=re.sub(' eneration',' generation',str(df['content'][index]))\n",
        "\n",
        "  #replacing theront with front\n",
        "  df.loc[index,'content']=re.sub('theront', 'front',str(df['content'][index]))\n",
        "\n",
        "\n",
        "\n",
        "\n",
        "  \n",
        "   \n",
        "  \n",
        "  \n",
        "\n",
        "\n",
        "  #removing rican and ian,rade,downor,upor,timeor,Sorryor,Utilicorp,themor,onlyor,pply\n",
        "  df.loc[index,'content']=re.sub('[\\s]rican|[\\s]ian|[\\s]rade|downor|upor|timeor|Sorryor|Utilicorp|[\\s]pply|onlyor|themor', '',str(df['content'][index]))\n",
        " \n",
        "\n",
        "  #replacing ssholes and sshole with asshole\n",
        "  df.loc[index,'content']=re.sub('[\\s]ssholes|[\\s]sshole', 'asshole',str(df['content'][index]))\n",
        "\n",
        "  #removing Thanks,slamic,aollow,theirst,Houston,Thanks!,Hello,youor,houston,vegas\n",
        "  df.loc[index,'content']=re.sub('Thanks\\,|[\\s]slamic|Islamic|islamic|aollow|theirst|Houstan|houstan|vegas|Vegas|Thanks[\\s]*\\!|Thanks\\.|Thanks|Hello\\,|youor', '',str(df['content'][index]))\n",
        "  \n",
        "\n",
        "  \n",
        "\n",
        "\n"
      ],
      "execution_count": null,
      "outputs": []
    },
    {
      "cell_type": "code",
      "metadata": {
        "id": "sfrKODiVUGgb"
      },
      "source": [
        "for index in range(df.shape[0]):\n",
        "\n",
        "  #removing ruary,eel,FW:,: dbCaps97Data,Variances detected,Varianceound,tblLoads,rror:\n",
        "  df.loc[index,'content']=re.sub('[\\s]ruary|FW:|: dbCaps97Data|Variances detected|Varianceound|tblLoads|rror:','',str(df['content'][index]))\n",
        "  \n",
        "  #removing words like :FWJ13_83JKDewwe,Received:\n",
        "  df.loc[index,'content']=re.sub(':[\\s]*[A-Z_0-9]+[A-Za-z0-9_]*|Received:','',str(df['content'][index]))\n",
        "\n",
        "\n",
        "  #replacing  nergy with energy ,xport with export \n",
        "  df.loc[index,'content']=re.sub(' nergy',' energy',str(df['content'][index]))\n",
        "  df.loc[index,'content']=re.sub(' xport',' export',str(df['content'][index]))\n",
        "\n",
        "\n",
        "\n",
        "  #removing words like +++ Hour 21 - bad datarom SO\n",
        "  df.loc[index,'content']=re.sub('\\+{3}[\\s]*Hour[\\s]*[0-9]+[\\s]*\\-[\\s]*bad[\\s]*datarom[\\s]*SO\\.','',str(df['content'][index]))\n"
      ],
      "execution_count": null,
      "outputs": []
    },
    {
      "cell_type": "code",
      "metadata": {
        "id": "W3baM4zhT7QV"
      },
      "source": [
        "for index in range(df.shape[0]):\n",
        "\n",
        "\n",
        "  \n",
        "   #replacing getucked,SOucking,soucking,yourucking,justuck,singsucking,goingucking,uck,areuckingunny with fuck\n",
        "  df.loc[index,'content']=re.sub('getucked|SOucking|soucking|singsucking|justuck|goingucking|[\\s]uck|areuckingunny', 'fuck',str(df['content'][index]))\n",
        "\n",
        "  #removing U.S.A,U.S.,Kratish:,littlekitten02:,thisrom,' LST ',CLL\n",
        "\n",
        "  df.loc[index,'content']=re.sub('U\\.S\\.A|U\\.S\\.|Kratish:|littlekitten02:|thisrom|[\\s]LST[\\s]|[\\s]CLL[\\s]', '',str(df['content'][index]))\n",
        "\n",
        "\n",
        "  #replacing CRCK WHOR with crack whore\n",
        "  df.loc[index,'content']=re.sub('CRCK[\\s]*WHOR','crack whore',df['content'][index])\n",
        "\n",
        "  #replacing pigor with pig\n",
        "  df.loc[index,'content']=re.sub('pigor','pig',df['content'][index])\n",
        "\n",
        "  #replacing bootyrom  with booty\n",
        "  df.loc[index,'content']=re.sub('bootyrom','booty',df['content'][index])\n",
        "\n",
        "\n",
        "\n",
        "\n",
        "\n",
        "  \n",
        "\n",
        "  #replacing fuckri,butuck,uck with fuck\n",
        "  df.loc[index,'content']=re.sub('fuckfri|butuck|[\\s]uck','fuck',df['content'][index])\n",
        "\n",
        "  #replacing dipshit with shit\n",
        "  df.loc[index,'content']=re.sub('dipshit','shit',df['content'][index])\n",
        "\n",
        "  #removing miami,mississippi\n",
        "  df.loc[index,'content']=re.sub('Miami|miami|mississippi|Mississippi','',df['content'][index])\n",
        "\n",
        "  #replacing titties with tits\n",
        "  df.loc[index,'content']=re.sub('titties','tits',df['content'][index])\n",
        "\n",
        "  #replacing exceptor with except\n",
        "  df.loc[index,'content']=re.sub('exceptor','except',df['content'][index])\n",
        "\n",
        " \n",
        "\n",
        "\n",
        "\n",
        "\n",
        "\n",
        "\n"
      ],
      "execution_count": null,
      "outputs": []
    },
    {
      "cell_type": "code",
      "metadata": {
        "id": "XRJ021lIUNJA"
      },
      "source": [
        "#removing digits,extra spaces\n",
        "for index in range(df.shape[0]):\n",
        "  df.loc[index,'content']=re.sub('[0-9]{1,}|[\\s]+',' ',str(df['content'][index]))\n",
        "  "
      ],
      "execution_count": null,
      "outputs": []
    },
    {
      "cell_type": "code",
      "metadata": {
        "id": "Db5Ug-ylUNP1"
      },
      "source": [
        "import string\n",
        "for index in range(df.shape[0]):\n",
        "  if index%200==0:\n",
        "    print(index)\n",
        "  for char in string.punctuation:\n",
        "    if char !=\"'\":\n",
        "      df['content'][index]= df['content'][index].replace(char, ' ')\n",
        "  "
      ],
      "execution_count": null,
      "outputs": []
    },
    {
      "cell_type": "code",
      "metadata": {
        "id": "2-NTRToOWDXt"
      },
      "source": [
        "for index in range(df.shape[0]):\n",
        "df.loc[index,'content']=re.sub('[Pp]lastic[s]*|chemical[s]*|organization[s]*|catalog[s]*|[\\s]duct|american|european|canadian',' ',str(df['content'][index]))\n",
        "\n",
        "\n",
        "df.loc[index,'content']=re.sub('gamma|theta|technical|button[s]*|definition[s]*|[\\s]box|institute[s]*|[\\s]nstitute[s]*','',df['content'][index])\n",
        "\n",
        "df.loc[index,'content']=re.sub('section[s]*|Japan|petroleum','',df['content'][index])"
      ],
      "execution_count": null,
      "outputs": []
    },
    {
      "cell_type": "code",
      "metadata": {
        "id": "B808tdeCWDpJ"
      },
      "source": [
        ""
      ],
      "execution_count": null,
      "outputs": []
    },
    {
      "cell_type": "markdown",
      "metadata": {
        "id": "YoyQnnYWUiTn"
      },
      "source": [
        "#Initial phase of model building\n"
      ]
    },
    {
      "cell_type": "code",
      "metadata": {
        "id": "BfTr377FUdVV"
      },
      "source": [
        "import nltk\n",
        "from nltk.tokenize import word_tokenize\n",
        "from nltk.corpus import stopwords"
      ],
      "execution_count": 5,
      "outputs": []
    },
    {
      "cell_type": "code",
      "metadata": {
        "id": "CklYamwdUdeq",
        "colab": {
          "base_uri": "https://localhost:8080/"
        },
        "outputId": "c783974b-97f0-4077-81c3-75cd3fdda007"
      },
      "source": [
        "nltk.download('punkt')"
      ],
      "execution_count": 6,
      "outputs": [
        {
          "output_type": "stream",
          "text": [
            "[nltk_data] Downloading package punkt to /root/nltk_data...\n",
            "[nltk_data]   Package punkt is already up-to-date!\n"
          ],
          "name": "stdout"
        },
        {
          "output_type": "execute_result",
          "data": {
            "text/plain": [
              "True"
            ]
          },
          "metadata": {
            "tags": []
          },
          "execution_count": 6
        }
      ]
    },
    {
      "cell_type": "code",
      "metadata": {
        "id": "PWzL0Zz7UpL4"
      },
      "source": [
        "for index in range(df.shape[0]):\n",
        "  \n",
        "  df['content'][index]=str(df['content'][index]).split()"
      ],
      "execution_count": 7,
      "outputs": []
    },
    {
      "cell_type": "code",
      "metadata": {
        "id": "CDXW9zrpUpcm",
        "colab": {
          "base_uri": "https://localhost:8080/"
        },
        "outputId": "62edea7e-2e0e-442b-f9a2-96a3703fcb05"
      },
      "source": [
        "pip install contractions"
      ],
      "execution_count": 8,
      "outputs": [
        {
          "output_type": "stream",
          "text": [
            "Requirement already satisfied: contractions in /usr/local/lib/python3.7/dist-packages (0.0.52)\n",
            "Requirement already satisfied: textsearch>=0.0.21 in /usr/local/lib/python3.7/dist-packages (from contractions) (0.0.21)\n",
            "Requirement already satisfied: pyahocorasick in /usr/local/lib/python3.7/dist-packages (from textsearch>=0.0.21->contractions) (1.4.2)\n",
            "Requirement already satisfied: anyascii in /usr/local/lib/python3.7/dist-packages (from textsearch>=0.0.21->contractions) (0.2.0)\n"
          ],
          "name": "stdout"
        }
      ]
    },
    {
      "cell_type": "code",
      "metadata": {
        "id": "SifOe33gUy5F"
      },
      "source": [
        "#converting entire text into lower case \n",
        "df['content']=df['content'].apply(lambda x:[word.lower() for word in x])\n"
      ],
      "execution_count": 9,
      "outputs": []
    },
    {
      "cell_type": "code",
      "metadata": {
        "id": "-32f93koU7GN"
      },
      "source": [
        "#expanding contracted words\n",
        "import contractions\n",
        "\n",
        "df['content']=df['content'].apply(lambda x: [contractions.fix(word) for word in x])\n"
      ],
      "execution_count": 10,
      "outputs": []
    },
    {
      "cell_type": "code",
      "metadata": {
        "colab": {
          "base_uri": "https://localhost:8080/"
        },
        "id": "hZft2dOaU7Mi",
        "outputId": "e394f480-fb8a-46db-b230-d56a405bf51b"
      },
      "source": [
        "import nltk\n",
        "from nltk.tokenize import word_tokenize\n",
        "from nltk.corpus import stopwords\n",
        "\n",
        "from nltk.tokenize import word_tokenize\n",
        "from nltk.corpus import stopwords, wordnet\n",
        "from nltk.stem import WordNetLemmatizer\n",
        "\n",
        "from sklearn.feature_extraction.text import TfidfVectorizer\n",
        "from sklearn.feature_extraction.text import ENGLISH_STOP_WORDS\n",
        "from sklearn.feature_extraction.text import CountVectorizer,TfidfVectorizer\n",
        "\n",
        "\n",
        "nltk.download('stopwords')\n",
        "nltk.download('averaged_perceptron_tagger')\n",
        "nltk.download('wordnet')"
      ],
      "execution_count": 11,
      "outputs": [
        {
          "output_type": "stream",
          "text": [
            "[nltk_data] Downloading package stopwords to /root/nltk_data...\n",
            "[nltk_data]   Package stopwords is already up-to-date!\n",
            "[nltk_data] Downloading package averaged_perceptron_tagger to\n",
            "[nltk_data]     /root/nltk_data...\n",
            "[nltk_data]   Package averaged_perceptron_tagger is already up-to-\n",
            "[nltk_data]       date!\n",
            "[nltk_data] Downloading package wordnet to /root/nltk_data...\n",
            "[nltk_data]   Package wordnet is already up-to-date!\n"
          ],
          "name": "stdout"
        },
        {
          "output_type": "execute_result",
          "data": {
            "text/plain": [
              "True"
            ]
          },
          "metadata": {
            "tags": []
          },
          "execution_count": 11
        }
      ]
    },
    {
      "cell_type": "code",
      "metadata": {
        "colab": {
          "base_uri": "https://localhost:8080/"
        },
        "id": "6mwXV0irU7Ym",
        "outputId": "1ec02b9a-7cfc-4378-b2db-ce04fd67d019"
      },
      "source": [
        "#removing words whose lenght is less than 3\n",
        "df['content']=df['content'].apply(lambda x:[word for word in x if len(word)>2])\n",
        "df['content']"
      ],
      "execution_count": 12,
      "outputs": [
        {
          "output_type": "execute_result",
          "data": {
            "text/plain": [
              "0        [eat, shit, john, lavorato@excelr, 11/18/2000,...\n",
              "1                                              [fuck, you]\n",
              "2        [gentlemen:, the, following, champagne, availa...\n",
              "3        [sorry, I have, taken, long...just, been, tryi...\n",
              "4        [asshole, john, lavorato@excelr, 12/23/2000, 1...\n",
              "                               ...                        \n",
              "48071    [dear, market, participants,, please, note, th...\n",
              "48072    [according, fancy, ciphering, made, $310,037.5...\n",
              "48073    [business, highlights, weather, group, let=01,...\n",
              "48074    [welcome, to:, diamonds, newsletter, issue:, 2...\n",
              "48075    [----------------------, forwarded, tamara, ja...\n",
              "Name: content, Length: 48076, dtype: object"
            ]
          },
          "metadata": {
            "tags": []
          },
          "execution_count": 12
        }
      ]
    },
    {
      "cell_type": "code",
      "metadata": {
        "id": "lkSFLXsnU7TP"
      },
      "source": [
        "stop=stopwords.words('english')\n",
        "\n",
        "#removing stop words\n",
        "df['content']=df['content'].apply(lambda x:[word for word in x if word not in stop])"
      ],
      "execution_count": 13,
      "outputs": []
    },
    {
      "cell_type": "code",
      "metadata": {
        "colab": {
          "base_uri": "https://localhost:8080/"
        },
        "id": "JdwULe_fU7eC",
        "outputId": "9398e076-50b2-4b3d-e262-e0ae03b0fbed"
      },
      "source": [
        "#now part of speech tagging\n",
        "df['pos'] = df['content'].apply(lambda x: nltk.tag.pos_tag([word for word in x if word]))\n",
        "df['pos']"
      ],
      "execution_count": 14,
      "outputs": [
        {
          "output_type": "execute_result",
          "data": {
            "text/plain": [
              "0        [(eat, NN), (shit, VBD), (john, JJ), (lavorato...\n",
              "1                                             [(fuck, NN)]\n",
              "2        [(gentlemen:, NN), (following, VBG), (champagn...\n",
              "3        [(sorry, NN), (I have, NNP), (taken, VBN), (lo...\n",
              "4        [(asshole, JJ), (john, NN), (lavorato@excelr, ...\n",
              "                               ...                        \n",
              "48071    [(dear, JJ), (market, NN), (participants,, JJ)...\n",
              "48072    [(according, VBG), (fancy, NN), (ciphering, VB...\n",
              "48073    [(business, NN), (highlights, NNS), (weather, ...\n",
              "48074    [(welcome, JJ), (to:, NN), (diamonds, NNS), (n...\n",
              "48075    [(----------------------, NN), (forwarded, VBD...\n",
              "Name: pos, Length: 48076, dtype: object"
            ]
          },
          "metadata": {
            "tags": []
          },
          "execution_count": 14
        }
      ]
    },
    {
      "cell_type": "code",
      "metadata": {
        "id": "Et2nNyfiVFQU"
      },
      "source": [
        "def get_wordnet_pos(tag):\n",
        "    if tag.startswith('J'):\n",
        "        return wordnet.ADJ\n",
        "    elif tag.startswith('V'):\n",
        "        return wordnet.VERB\n",
        "    elif tag.startswith('N'):\n",
        "        return wordnet.NOUN\n",
        "    elif tag.startswith('R'):\n",
        "        return wordnet.ADV\n",
        "    else:\n",
        "        return wordnet.NOUN\n",
        "df['wordnet_pos'] = df['pos'].apply(lambda x: [(word, get_wordnet_pos(pos)) for (word, pos) in x])"
      ],
      "execution_count": 15,
      "outputs": []
    },
    {
      "cell_type": "code",
      "metadata": {
        "id": "OYQtF-g4ogUs"
      },
      "source": [
        "bow_vector = CountVectorizer()"
      ],
      "execution_count": 16,
      "outputs": []
    },
    {
      "cell_type": "code",
      "metadata": {
        "id": "mxeiP-0bVFVw"
      },
      "source": [
        "wnl = WordNetLemmatizer()\n",
        "df['lemmatized'] = (df['wordnet_pos']).apply(lambda x: [wnl.lemmatize(word, tag) for word, tag in x])"
      ],
      "execution_count": 17,
      "outputs": []
    },
    {
      "cell_type": "code",
      "metadata": {
        "id": "lmzDw6DpVTUe"
      },
      "source": [
        "#now joining these lemmas and forming meaningful sentences\n",
        "# rejoin meaningful stem words in single string like a sentence\n",
        "df['lemmatized']=df['lemmatized'].apply(lambda x:' '.join(x))"
      ],
      "execution_count": 18,
      "outputs": []
    },
    {
      "cell_type": "code",
      "metadata": {
        "id": "F-QYZYDfVup9"
      },
      "source": [
        "tfidf = TfidfVectorizer(lowercase=True,max_features=3000,stop_words=ENGLISH_STOP_WORDS)\n",
        "# X = tfidf.fit_transform(df['lemmatized'])"
      ],
      "execution_count": 19,
      "outputs": []
    },
    {
      "cell_type": "code",
      "metadata": {
        "id": "BkaAIHGqVuv3"
      },
      "source": [
        "# X.toarray()"
      ],
      "execution_count": 26,
      "outputs": []
    },
    {
      "cell_type": "code",
      "metadata": {
        "id": "O9-45DyWmEMv"
      },
      "source": [
        "X = df['lemmatized']"
      ],
      "execution_count": 20,
      "outputs": []
    },
    {
      "cell_type": "code",
      "metadata": {
        "id": "2YkBrzDlmjTP"
      },
      "source": [
        "ylabels = df['Class']"
      ],
      "execution_count": 25,
      "outputs": []
    },
    {
      "cell_type": "code",
      "metadata": {
        "id": "yzmpwZx3Vu4D"
      },
      "source": [
        "from sklearn.model_selection import train_test_split\n",
        "from sklearn.ensemble import  RandomForestClassifier\n",
        "from sklearn.pipeline import Pipeline"
      ],
      "execution_count": 22,
      "outputs": []
    },
    {
      "cell_type": "code",
      "metadata": {
        "id": "SuARFEFCm_AV"
      },
      "source": [
        "X_train, X_test, y_train, y_test = train_test_split(X, ylabels,test_size=0.4)"
      ],
      "execution_count": 26,
      "outputs": []
    },
    {
      "cell_type": "code",
      "metadata": {
        "id": "oBKdRYmz1FzW"
      },
      "source": [
        "# X_train, X_test, y_train, y_test = train_test_split(X, df['Class'], test_size = 0.2, random_state = 0, stratify = df['Class'])"
      ],
      "execution_count": null,
      "outputs": []
    },
    {
      "cell_type": "code",
      "metadata": {
        "id": "xmr0jAMLnEgw"
      },
      "source": [
        "test_df = pd.DataFrame(X_test)\n",
        "test_df.to_csv('test_preprocessed.csv')"
      ],
      "execution_count": 27,
      "outputs": []
    },
    {
      "cell_type": "code",
      "metadata": {
        "colab": {
          "base_uri": "https://localhost:8080/",
          "height": 424
        },
        "id": "DTPcLRH8I5bD",
        "outputId": "285fdd5c-0d3d-41ed-ec8c-cb23d7d3359a"
      },
      "source": [
        "test_df"
      ],
      "execution_count": 28,
      "outputs": [
        {
          "output_type": "execute_result",
          "data": {
            "text/html": [
              "<div>\n",
              "<style scoped>\n",
              "    .dataframe tbody tr th:only-of-type {\n",
              "        vertical-align: middle;\n",
              "    }\n",
              "\n",
              "    .dataframe tbody tr th {\n",
              "        vertical-align: top;\n",
              "    }\n",
              "\n",
              "    .dataframe thead th {\n",
              "        text-align: right;\n",
              "    }\n",
              "</style>\n",
              "<table border=\"1\" class=\"dataframe\">\n",
              "  <thead>\n",
              "    <tr style=\"text-align: right;\">\n",
              "      <th></th>\n",
              "      <th>lemmatized</th>\n",
              "    </tr>\n",
              "  </thead>\n",
              "  <tbody>\n",
              "    <tr>\n",
              "      <th>43743</th>\n",
              "      <td>username: campb54792 electronic monthly statem...</td>\n",
              "    </tr>\n",
              "    <tr>\n",
              "      <th>31809</th>\n",
              "      <td>monday 18th provide flash p&amp;l houston t+1 basi...</td>\n",
              "    </tr>\n",
              "    <tr>\n",
              "      <th>13507</th>\n",
              "      <td>---------------------- forward eric bass/hou/e...</td>\n",
              "    </tr>\n",
              "    <tr>\n",
              "      <th>22361</th>\n",
              "      <td>don, please advise interest jeff's experience....</td>\n",
              "    </tr>\n",
              "    <tr>\n",
              "      <th>15598</th>\n",
              "      <td>news?</td>\n",
              "    </tr>\n",
              "    <tr>\n",
              "      <th>...</th>\n",
              "      <td>...</td>\n",
              "    </tr>\n",
              "    <tr>\n",
              "      <th>15725</th>\n",
              "      <td>well look round trip ticket (48 one-ways) look...</td>\n",
              "    </tr>\n",
              "    <tr>\n",
              "      <th>10403</th>\n",
              "      <td>-----original message----- from: perez, agusti...</td>\n",
              "    </tr>\n",
              "    <tr>\n",
              "      <th>23340</th>\n",
              "      <td>john please see following staff interested joi...</td>\n",
              "    </tr>\n",
              "    <tr>\n",
              "      <th>12750</th>\n",
              "      <td>energy insight monday, august energy insight t...</td>\n",
              "    </tr>\n",
              "    <tr>\n",
              "      <th>17415</th>\n",
              "      <td>hey mom, send flight number america west debac...</td>\n",
              "    </tr>\n",
              "  </tbody>\n",
              "</table>\n",
              "<p>19231 rows × 1 columns</p>\n",
              "</div>"
            ],
            "text/plain": [
              "                                              lemmatized\n",
              "43743  username: campb54792 electronic monthly statem...\n",
              "31809  monday 18th provide flash p&l houston t+1 basi...\n",
              "13507  ---------------------- forward eric bass/hou/e...\n",
              "22361  don, please advise interest jeff's experience....\n",
              "15598                                              news?\n",
              "...                                                  ...\n",
              "15725  well look round trip ticket (48 one-ways) look...\n",
              "10403  -----original message----- from: perez, agusti...\n",
              "23340  john please see following staff interested joi...\n",
              "12750  energy insight monday, august energy insight t...\n",
              "17415  hey mom, send flight number america west debac...\n",
              "\n",
              "[19231 rows x 1 columns]"
            ]
          },
          "metadata": {
            "tags": []
          },
          "execution_count": 28
        }
      ]
    },
    {
      "cell_type": "code",
      "metadata": {
        "id": "xdzZXJP_nNVC"
      },
      "source": [
        "from sklearn.linear_model import LogisticRegression\n",
        "clf = LogisticRegression()\n",
        "from sklearn.feature_extraction.text import ENGLISH_STOP_WORDS"
      ],
      "execution_count": 29,
      "outputs": []
    },
    {
      "cell_type": "code",
      "metadata": {
        "id": "IR1UQw0rnST-"
      },
      "source": [
        "pipeline = Pipeline(steps=[(\"tfid_vector\", TfidfVectorizer(lowercase=True,\n",
        "                                                     max_features=3000,\n",
        "                                                     stop_words=ENGLISH_STOP_WORDS)),\n",
        "                     ('clf',LogisticRegression())])"
      ],
      "execution_count": 30,
      "outputs": []
    },
    {
      "cell_type": "code",
      "metadata": {
        "colab": {
          "base_uri": "https://localhost:8080/"
        },
        "id": "xWywQwi9neZL",
        "outputId": "25340f4d-0072-444c-be0e-819e41a33633"
      },
      "source": [
        "bow_vector.fit(X_train,y_train)\n",
        "pipeline.fit(X_train,y_train)"
      ],
      "execution_count": 31,
      "outputs": [
        {
          "output_type": "execute_result",
          "data": {
            "text/plain": [
              "Pipeline(memory=None,\n",
              "         steps=[('tfid_vector',\n",
              "                 TfidfVectorizer(analyzer='word', binary=False,\n",
              "                                 decode_error='strict',\n",
              "                                 dtype=<class 'numpy.float64'>,\n",
              "                                 encoding='utf-8', input='content',\n",
              "                                 lowercase=True, max_df=1.0, max_features=3000,\n",
              "                                 min_df=1, ngram_range=(1, 1), norm='l2',\n",
              "                                 preprocessor=None, smooth_idf=True,\n",
              "                                 stop_words=frozenset({'a', 'about', 'above',\n",
              "                                                       'across', 'after',\n",
              "                                                       'aft...\n",
              "                                 strip_accents=None, sublinear_tf=False,\n",
              "                                 token_pattern='(?u)\\\\b\\\\w\\\\w+\\\\b',\n",
              "                                 tokenizer=None, use_idf=True,\n",
              "                                 vocabulary=None)),\n",
              "                ('clf',\n",
              "                 LogisticRegression(C=1.0, class_weight=None, dual=False,\n",
              "                                    fit_intercept=True, intercept_scaling=1,\n",
              "                                    l1_ratio=None, max_iter=100,\n",
              "                                    multi_class='auto', n_jobs=None,\n",
              "                                    penalty='l2', random_state=None,\n",
              "                                    solver='lbfgs', tol=0.0001, verbose=0,\n",
              "                                    warm_start=False))],\n",
              "         verbose=False)"
            ]
          },
          "metadata": {
            "tags": []
          },
          "execution_count": 31
        }
      ]
    },
    {
      "cell_type": "code",
      "metadata": {
        "colab": {
          "base_uri": "https://localhost:8080/"
        },
        "id": "yW4QRJweDPVS",
        "outputId": "d404f070-050d-49f8-f164-9773280adab4"
      },
      "source": [
        "import pickle\n",
        "from joblib import dump\n",
        "dump(pipeline, filename=\"model.joblib\")\n",
        "# Saving model to disk\n",
        "pickle.dump(pipeline, open('model.pkl','wb'))\n",
        "# Loading model to compare the results\n",
        "model = pickle.load(open('model.pkl','rb'))\n",
        "print(model.predict([('Abusive')]))\n",
        "print(model.predict([('Abusive')]))"
      ],
      "execution_count": 34,
      "outputs": [
        {
          "output_type": "stream",
          "text": [
            "['Non Abusive']\n",
            "['Non Abusive']\n"
          ],
          "name": "stdout"
        }
      ]
    },
    {
      "cell_type": "code",
      "metadata": {
        "id": "1seCCNpt1F50"
      },
      "source": [
        "# clf = RandomForestClassifier(n_estimators=100)"
      ],
      "execution_count": null,
      "outputs": []
    },
    {
      "cell_type": "code",
      "metadata": {
        "id": "2GJxoCdj1K5v"
      },
      "source": [
        "# clf.fit(X_train, y_train)"
      ],
      "execution_count": 39,
      "outputs": []
    },
    {
      "cell_type": "code",
      "metadata": {
        "id": "MnaBWeYd1Ogm"
      },
      "source": [
        "y_pred = clf.predict(X_test)"
      ],
      "execution_count": null,
      "outputs": []
    },
    {
      "cell_type": "code",
      "metadata": {
        "colab": {
          "base_uri": "https://localhost:8080/"
        },
        "id": "KrIbPSCt1Oxr",
        "outputId": "75858035-6dcb-4d0a-a369-57b10d2c0725"
      },
      "source": [
        "from sklearn.metrics import confusion_matrix,accuracy_score,classification_report\n",
        "confusion_matrix(y_test, y_pred)"
      ],
      "execution_count": null,
      "outputs": [
        {
          "output_type": "execute_result",
          "data": {
            "text/plain": [
              "array([[ 621,   61],\n",
              "       [   4, 8930]])"
            ]
          },
          "metadata": {
            "tags": []
          },
          "execution_count": 27
        }
      ]
    },
    {
      "cell_type": "code",
      "metadata": {
        "colab": {
          "base_uri": "https://localhost:8080/"
        },
        "id": "gViDAeKS1Za3",
        "outputId": "484fe157-9aa1-4437-daa0-52ec603982d3"
      },
      "source": [
        "print(classification_report(y_test,y_pred))"
      ],
      "execution_count": null,
      "outputs": [
        {
          "output_type": "stream",
          "text": [
            "              precision    recall  f1-score   support\n",
            "\n",
            "     Abusive       0.99      0.91      0.95       682\n",
            " Non Abusive       0.99      1.00      1.00      8934\n",
            "\n",
            "    accuracy                           0.99      9616\n",
            "   macro avg       0.99      0.96      0.97      9616\n",
            "weighted avg       0.99      0.99      0.99      9616\n",
            "\n"
          ],
          "name": "stdout"
        }
      ]
    },
    {
      "cell_type": "code",
      "metadata": {
        "id": "v_0RDuZMao1m"
      },
      "source": [
        "import pickle"
      ],
      "execution_count": null,
      "outputs": []
    },
    {
      "cell_type": "code",
      "metadata": {
        "id": "SR00mDf4UONl"
      },
      "source": [
        "saved_model=pickle.dumps(clf)"
      ],
      "execution_count": null,
      "outputs": []
    },
    {
      "cell_type": "code",
      "metadata": {
        "id": "zpb4UHNuarBv"
      },
      "source": [
        "modelfrom_pickle = pickle.loads(saved_model)"
      ],
      "execution_count": null,
      "outputs": []
    },
    {
      "cell_type": "code",
      "metadata": {
        "id": "gNmPUAM0azhx"
      },
      "source": [
        "y_pred=modelfrom_pickle.predict(X_test)"
      ],
      "execution_count": null,
      "outputs": []
    },
    {
      "cell_type": "code",
      "metadata": {
        "colab": {
          "base_uri": "https://localhost:8080/"
        },
        "id": "IbjlruDWa738",
        "outputId": "4302d24c-438c-463e-a8fe-688be7e20620"
      },
      "source": [
        "print(accuracy_score(y_test,y_pred))"
      ],
      "execution_count": null,
      "outputs": [
        {
          "output_type": "stream",
          "text": [
            "0.9932404326123128\n"
          ],
          "name": "stdout"
        }
      ]
    },
    {
      "cell_type": "code",
      "metadata": {
        "id": "rfz9ZozcbCHv"
      },
      "source": [
        "import joblib\n",
        "import pickle"
      ],
      "execution_count": null,
      "outputs": []
    },
    {
      "cell_type": "code",
      "metadata": {
        "colab": {
          "base_uri": "https://localhost:8080/"
        },
        "id": "oUjzz6MhbFLM",
        "outputId": "b6aa4142-56fe-416d-b4e8-4824ae0d4f1a"
      },
      "source": [
        "pickle.dump(clf,open('pickle.pkl','wb'))\n",
        "print(clf)"
      ],
      "execution_count": null,
      "outputs": [
        {
          "output_type": "stream",
          "text": [
            "RandomForestClassifier(bootstrap=True, ccp_alpha=0.0, class_weight=None,\n",
            "                       criterion='gini', max_depth=None, max_features='auto',\n",
            "                       max_leaf_nodes=None, max_samples=None,\n",
            "                       min_impurity_decrease=0.0, min_impurity_split=None,\n",
            "                       min_samples_leaf=1, min_samples_split=2,\n",
            "                       min_weight_fraction_leaf=0.0, n_estimators=100,\n",
            "                       n_jobs=None, oob_score=False, random_state=None,\n",
            "                       verbose=0, warm_start=False)\n"
          ],
          "name": "stdout"
        }
      ]
    },
    {
      "cell_type": "code",
      "metadata": {
        "colab": {
          "base_uri": "https://localhost:8080/"
        },
        "id": "Y6yQ3bVHbKUi",
        "outputId": "721c001d-711d-46f4-da34-e6f89ccc5849"
      },
      "source": [
        "pickle.dump(X,open('transform.pkl','wb'))\n"
      ],
      "execution_count": null,
      "outputs": [
        {
          "output_type": "stream",
          "text": [
            "  (0, 6087)\t0.2629666476344131\n",
            "  (0, 3537)\t0.27880252342981404\n",
            "  (0, 180)\t0.16581108706513834\n",
            "  (0, 3601)\t0.29586048772969353\n",
            "  (0, 8363)\t0.2608065838404586\n",
            "  (0, 261)\t0.2342759171998239\n",
            "  (0, 1878)\t0.25725609735337496\n",
            "  (0, 4804)\t0.22718424626912473\n",
            "  (0, 10492)\t0.08517127310053703\n",
            "  (0, 2473)\t0.09585132155860356\n",
            "  (0, 4021)\t0.22660835470939306\n",
            "  (0, 5612)\t0.1149149430648057\n",
            "  (0, 1466)\t0.1773581805584318\n",
            "  (0, 10998)\t0.08254166435795501\n",
            "  (0, 19)\t0.25861626091379714\n",
            "  (0, 262)\t0.10915159780687567\n",
            "  (0, 211)\t0.16797051249317282\n",
            "  (0, 98)\t0.12102474161832286\n",
            "  (0, 4416)\t0.08457295142449638\n",
            "  (0, 6507)\t0.233168192326107\n",
            "  (0, 6208)\t0.26338637362853584\n",
            "  (0, 9935)\t0.24360614250822282\n",
            "  (0, 3989)\t0.25735380185497886\n",
            "  (1, 4939)\t1.0\n",
            "  (2, 246)\t0.12269644932154496\n",
            "  :\t:\n",
            "  (48075, 10688)\t0.08573339539278617\n",
            "  (48075, 4387)\t0.1480492041286979\n",
            "  (48075, 4854)\t0.057427824861323626\n",
            "  (48075, 10844)\t0.05725707620311889\n",
            "  (48075, 1559)\t0.08086627909546128\n",
            "  (48075, 11610)\t0.06712375500179435\n",
            "  (48075, 38)\t0.1684603776175807\n",
            "  (48075, 9759)\t0.06488087238185497\n",
            "  (48075, 10957)\t0.054581870034999654\n",
            "  (48075, 11871)\t0.055479200627794545\n",
            "  (48075, 3162)\t0.07487048784298501\n",
            "  (48075, 7212)\t0.060783096859953596\n",
            "  (48075, 9793)\t0.06961872751522452\n",
            "  (48075, 8471)\t0.04545407044131304\n",
            "  (48075, 576)\t0.10139811252077907\n",
            "  (48075, 115)\t0.13222369273818574\n",
            "  (48075, 33)\t0.15829665659854644\n",
            "  (48075, 4790)\t0.0694316335943774\n",
            "  (48075, 10492)\t0.044654430266866045\n",
            "  (48075, 2473)\t0.05025387080304931\n",
            "  (48075, 4021)\t0.29702112592925517\n",
            "  (48075, 5612)\t0.18074619968346672\n",
            "  (48075, 10998)\t0.04327575320886126\n",
            "  (48075, 262)\t0.11445414011906804\n",
            "  (48075, 4416)\t0.0443407363112952\n"
          ],
          "name": "stdout"
        }
      ]
    },
    {
      "cell_type": "code",
      "metadata": {
        "id": "GjgNDgx8jfDM",
        "outputId": "0d69fdbc-959c-457b-d001-d4e1a4974cd3"
      },
      "source": [
        "#this code is used to check frequency of any word \n",
        "db_c=0\n",
        "\n",
        "\n",
        "\n",
        "\n",
        "l=[]\n",
        "x=\"\"\n",
        "x=\"Frank\" \n",
        "\n",
        "for i in range(df.shape[0]):\n",
        "    if x in str(df['content'][i]):\n",
        "        l.append((i,df['class'][i]))\n",
        "        db_c=db_c+(df['content'][i].count(x))\n",
        "print(db_c,len(l))\n",
        "\n",
        "\n",
        "\n",
        "\n",
        "\n",
        "\n",
        "\n",
        "\n",
        "\n",
        "#you have to apply this to save words into text file\n",
        "\n",
        "\n"
      ],
      "execution_count": null,
      "outputs": [
        {
          "output_type": "stream",
          "text": [
            "0 0\n"
          ],
          "name": "stdout"
        }
      ]
    },
    {
      "cell_type": "markdown",
      "metadata": {
        "id": "_1-Vg8Lxjvc2"
      },
      "source": [
        "#STOP HERE"
      ]
    },
    {
      "cell_type": "code",
      "metadata": {
        "id": "wSGQbHBHvDg-"
      },
      "source": [
        "db_c=0\n",
        "l=[]\n",
        "x=\"\"\n",
        "x=\" arn\" \n",
        "for i in range(df.shape[0]):\n",
        "    if x in str(df['content'][i]):\n",
        "        l.append((i,df['class'][i]))\n",
        "        db_c=db_c+(df['content'][i].count(x))\n",
        "print(db_c,len(l))"
      ],
      "execution_count": null,
      "outputs": []
    },
    {
      "cell_type": "code",
      "metadata": {
        "id": "Mon1EfCoAhZK"
      },
      "source": [
        "for index in range(df.shape[0]):\n",
        "  \n",
        "  \n",
        "  \n",
        "#removing time\n",
        "\n",
        "  df.loc[index,'content']=re.sub('[\\d]{2}[\\:][\\d]{2}[\\s]*AM|[\\d]{2}[\\:][\\d]{2}[\\s]*PM',' ',(df['content'][index]))\n",
        "\n",
        "#removing dates of dd/mm/yyyy format dates  date doesn't provide relevent info\n",
        "\n",
        "  df.loc[index,'content']=re.sub('[\\d]{2}[\\s]*[\\/][\\s]*[\\d]{2}[\\s]*[\\/][\\s]*[\\d]{4}',' ',df['content'][index])\n",
        "\n",
        "\n",
        "\n",
        "\n",
        "\n",
        "#removing - \n",
        "\n",
        "  df.loc[index,'content']=re.sub('-',' ',df['content'][index])\n",
        "\n",
        "\n",
        "\n",
        "\n",
        "#removing ? \n",
        "\n",
        "  df.loc[index,'content']=re.sub('\\?',' ',df['content'][index])\n",
        "\n",
        "\n",
        "#removing ! \n",
        "\n",
        "  df.loc[index,'content']=re.sub('!',' ',df['content'][index])\n",
        "\n",
        "\n",
        "#removing > with spaces\n",
        "\n",
        "  df.loc[index,'content']=re.sub('\\>',' ' ,df['content'][index])"
      ],
      "execution_count": null,
      "outputs": []
    },
    {
      "cell_type": "code",
      "metadata": {
        "id": "tcpAdcEJf0Bg"
      },
      "source": [
        "#removing  characters like \\n,\\t, and the words which are of no use and occurs frequently such as company,Arng\n",
        "for index in range(df_org.shape[0]):\n",
        "    df.loc[index,'content']=re.sub('[\\\\n\\\\t\\$]',' ',df_org['content'][index])\n",
        "   "
      ],
      "execution_count": null,
      "outputs": []
    },
    {
      "cell_type": "code",
      "metadata": {
        "id": "Q4PT7TdEf8LJ"
      },
      "source": [
        "for index in range(df.shape[0]):\n",
        "  \n",
        "  \n",
        "  \n",
        "#removing time\n",
        "\n",
        "  df.loc[index,'content']=re.sub('[\\d]{2}[\\:][\\d]{2}[\\s]*AM|[\\d]{2}[\\:][\\d]{2}[\\s]*PM',' ',(df['content'][index]))\n",
        "\n",
        "#removing dates of dd/mm/yyyy format dates  date doesn't provide relevent info\n",
        "\n",
        "  df.loc[index,'content']=re.sub('[\\d]{2}[\\s]*[\\/][\\s]*[\\d]{2}[\\s]*[\\/][\\s]*[\\d]{4}',' ',df['content'][index])\n",
        "\n",
        "\n",
        "\n",
        "\n",
        "\n",
        "#removing - \n",
        "\n",
        "  df.loc[index,'content']=re.sub('-',' ',df['content'][index])\n",
        "\n",
        "\n",
        "\n",
        "\n",
        "#removing ? \n",
        "\n",
        "  df.loc[index,'content']=re.sub('\\?',' ',df['content'][index])\n",
        "\n",
        "\n",
        "#removing ! \n",
        "\n",
        "  df.loc[index,'content']=re.sub('!',' ',df['content'][index])\n",
        "\n",
        "\n",
        "#removing > with spaces\n",
        "\n",
        "  df.loc[index,'content']=re.sub('\\>',' ' ,df['content'][index])"
      ],
      "execution_count": null,
      "outputs": []
    },
    {
      "cell_type": "code",
      "metadata": {
        "id": "kI5BeAmJgIMV"
      },
      "source": [
        "for index in range(df.shape[0]):\n",
        "  \n",
        "#removing [  \n",
        "\n",
        "  df.loc[index,'content']=re.sub('\\[','',df['content'][index])\n",
        "\n",
        "\n",
        "\n",
        "#removing ] \n",
        "\n",
        "  df.loc[index,'content']=re.sub('\\]','',df['content'][index])\n",
        "\n",
        "\n",
        "#removing ( \n",
        "\n",
        "  df.loc[index,'content']=re.sub('\\(','',df['content'][index])\n",
        "\n",
        "\n",
        "#removing )\n",
        "\n",
        "  df.loc[index,'content']=re.sub('\\)','',df['content'][index])\n"
      ],
      "execution_count": null,
      "outputs": []
    },
    {
      "cell_type": "code",
      "metadata": {
        "id": "flx-q3c-gaiv"
      },
      "source": [
        "for index in range(df.shape[0]):\n",
        "#removing =\n",
        "\n",
        "  df.loc[index,'content']=re.sub('\\=','',df['content'][index])\n",
        "\n",
        "\n",
        "\n",
        "#removing digits\n",
        "\n",
        "  df.loc[index,'content']=re.sub('[0-9]','',df['content'][index])\n",
        "\n",
        "\n",
        "\n",
        "#removing :\n",
        "\n",
        "  df.loc[index,'content']=re.sub('\\:','',df['content'][index])\n",
        "\n",
        "\n",
        "\n",
        "#removing / \n",
        "\n",
        "  df.loc[index,'content']=re.sub('/','',df['content'][index])\n",
        "\n",
        "#removing entities like email \n",
        "   \n",
        "  df.loc[index,'content']=re.sub('[\\s][a-zA-Z0-9]*[@][A-Za-z]*[.]?[a-zA-Z]*[\\s]','',df['content'][index])\n",
        "\n",
        "\n",
        "\n",
        "  \n",
        "  \n",
        " \n",
        "#REMOVING WEBSITES \n",
        "#substituting / with spaces\n",
        "\n",
        "  df.loc[index,'content']=re.sub('[\\s][w]{3}[.][a-z0-9]+[.][a-z]+[\\s]','',str(df['content'][index]).lower())\n",
        "  \n",
        "\n",
        "\n",
        "  \n",
        "#there are certain words which occurs frequently and have no relevent info for classification so removing them\n",
        "\n",
        "  df.loc[index,'content']=re.sub('Start Date|HourAhead hour','',df['content'][index])\n",
        "\n",
        "\n",
        "#removing ;\n",
        "\n",
        "  \n",
        "  df.loc[index,'content']=re.sub(';','',df['content'][index])\n"
      ],
      "execution_count": null,
      "outputs": []
    },
    {
      "cell_type": "code",
      "metadata": {
        "id": "CFEpTGK6gxQQ"
      },
      "source": [
        "for index in range(df.shape[0]):\n",
        "  \n",
        "  \n",
        "  \n",
        "#substituting +,PM,AM with spaces\n",
        "\n",
        "  df.loc[index,'content']=re.sub('\\+|[\\s]+pm+|[\\s]+am',' ',df['content'][index])\n",
        "    \n",
        "#removing words  [Some word]_TYPE, SC_I\n",
        "  df.loc[index,'content']=re.sub('[a-zA-Z]+[\\s]*[_]TYPE|SC_I|E[\\s]I_CISO_|E[\\s]I|TRA[\\s]ING_SC|ISO',' ',df['content'][index])\n"
      ],
      "execution_count": null,
      "outputs": []
    },
    {
      "cell_type": "code",
      "metadata": {
        "id": "fVuDLFBfhFsx"
      },
      "source": [
        "for index in range(df.shape[0]):\n",
        "  \n",
        "  \n",
        "  \n",
        "#removing < ; % \n",
        "\n",
        "  df.loc[index,'content']=re.sub('\\<|\\;|\\%','',df['content'][index])\n",
        "#substituting soo,sooo,soooo with so\n",
        "\n",
        "  df.loc[index,'content']=re.sub('[\\s]+so+','so',str(df['content'][index]).lower())\n",
        "    \n",
        "#word excelr North America Corp,HOU,CC,Subject,* ,ET&S,Zone,BUY,SELL,IMAGE occurs quite frequently so removing those\n",
        "  df.loc[index,'content']=re.sub('excelr+|[\\s]North|[\\s]+America|[\\s]Corp|[\\s]HOU|[\\s]cc|[\\s]CC|Subject|\\*+|ET&S|Zone|BUY|SELL|IMAGE',' ',df['content'][index])\n",
        "\n",
        "\n",
        "#WORD TRANS_,D,Alias also occurs frequently\n",
        "  df.loc[index,'content']=re.sub('TRANS_[A-Z]+|D+|[\\s]+Alias',' ',df['content'][index])\n",
        "\n",
        "  df.loc[index,'content']=re.sub('[\\s]+HOU|[\\s]+Gay|[\\s]+ECT|[\\s]+ref|[\\s]+mk_cust_hol _|[\\s]+Master|[\\s]+FTFR|[\\s]+FTLR|e[\\s]*mail[\\s]+|E[\\s]*mail|[\\s]+mailto+|[\\s]+Original Message',' ',df['content'][index])\n",
        "    \n",
        "\n"
      ],
      "execution_count": null,
      "outputs": []
    },
    {
      "cell_type": "code",
      "metadata": {
        "id": "w2QO1p7fhmX_"
      },
      "source": [
        "#removing some sentences which seems stand alone like 'Insufficient disk space|Not enough space on disk'\n",
        "for index in range(df.shape[0]):\n",
        "    df.loc[index,'content']=re.sub('Insufficient disk space|Not enough space on disk|dbCaps[\\s]+|MMBtu[\\s]+d|[\\s]+img[\\s]+\\.gif|IMAGE ',' ',df['content'][index])\n",
        "    df.loc[index,'content']=re.sub(' ught','thought',df['content'][index])\n",
        "    \n",
        "    \n",
        "    #removing # and *\n",
        "    df.loc[index,'content']=re.sub('\\*+|\\#','',df['content'][index])\n",
        "    \n",
        "    #reomving web address and some other words\n",
        "    \n",
        "    df.loc[index,'content']=re.sub('[\\s]+[a-zA-Z0-9]*[.][A-Za-z0-9]+[.][a-zA-Z0-9]+|TRA ING_SC|[\\s]+m.asp|[\\s]+benjamin+|until you start work|until you get married|until you have kids|until you lose ten pounds|[\\s]+ecember[\\s]+|until you finish school|EAKERS|ANBO  HAVE A PEAR',' ',df['content'][index])"
      ],
      "execution_count": null,
      "outputs": []
    },
    {
      "cell_type": "code",
      "metadata": {
        "id": "caVjVa_AhuHA"
      },
      "source": [
        "for index in range(df.shape[0]):\n",
        "  \n",
        "    #THERE ARE ALOT OF S AND A SO REMOVING THEM\n",
        "    df.loc[index,'content']=re.sub('A|S|[\\s]+[.]us',' ',df['content'][index])\n",
        "    \n",
        "    \n",
        "    #removing _,~\n",
        "    df.loc[index,'content']=re.sub('_+|~+','',df['content'][index])\n",
        "    \n",
        "   \n",
        "\n",
        "    #removing some more names like sara and some words like EB\n",
        "    df.loc[index,'content']=re.sub('[\\s]+sara|[\\s]+ara|[\\s]+hackleton|EB',' ',df['content'][index])\n",
        "    \n",
        "    #removing word llen on\n",
        "    \n",
        "    df.loc[index,'content']=re.sub('[\\s]+llen[\\s]*on','',df['content'][index])"
      ],
      "execution_count": null,
      "outputs": []
    },
    {
      "cell_type": "code",
      "metadata": {
        "id": "X9idCtwVh4fs"
      },
      "source": [
        "for index in range(df.shape[0]):\n",
        "  df.loc[index,'content']=re.sub('[\\s]+llen|phillip','',df['content'][index])\n",
        "    \n",
        "  #removing  days from data\n",
        "  df.loc[index,'content']=re.sub('[\\s]+sun|[\\s]+mon|[\\s]+tue|[\\s]+wed|[\\s]+thur|[\\s]+fri|[\\s]+sat|[\\s]+[\\s]+sunday|[\\s]+monday|[\\s]+tuesday|[\\s]+wednesday|[\\s]+thursday|[\\s]+friday|[\\s]+saturday',' ',str(df['content'][index]).lower())\n",
        "\n",
        "  #removing months from data\n",
        "  df.loc[index,'content']=re.sub('[\\s]+jan|[\\s]+feb|[\\s]+mar|[\\s]+apr|[\\s]+may|[\\s]+june|[\\s]+july|[\\s]+aug|[\\s]+sept|[\\s]+oct|[\\s]+nov|[\\s]+dec','',df['content'][index].lower())\n",
        "  df.loc[index,'content']=re.sub('[\\s]+january|[\\s]+febuary|[\\s]+march|[\\s]+april|[\\s]+may|[\\s]+june|[\\s]+july|[\\s]+august|[\\s]+september|[\\s]+october|[\\s]+november|[\\s]+december',' ',str(df['content'][index]).lower())\n",
        "\n",
        "  #removing any words followed by . and am pm\n",
        "\n",
        "  df.loc[index,'content']=re.sub('[.][a-z]+|[\\s]+pm|[\\s]+am|\\|',' ',str(df['content'][index]).lower())\n",
        "    "
      ],
      "execution_count": null,
      "outputs": []
    },
    {
      "cell_type": "code",
      "metadata": {
        "id": "ZA86KHOMldOE"
      },
      "source": [
        "for index in range(df.shape[0]):\n",
        "  df.loc[index,'content']=re.sub('TRANS_[A-Z]+|[\\s]+D|PNT_OF_INTRC|FINAL|MK|ENG|FIRM|Hour|EAL_NO|bad[\\s]*data[\\s]*from|PURCH_SALE','',df['content'][index])\n",
        "  df.loc[index,'content']=re.sub('[\\s]+Y|Arng|CCR|Synchronizing|Folder|Mailbox',' ',df['content'][index])\n",
        "\n",
        "  #replacing elivery with delivery\n",
        "  df.loc[index,'content']=re.sub(' elivery','delivery',str(df['content'][index]).lower())\n",
        "  #replacing etails with details\n",
        "  df.loc[index,'content']=re.sub(' etails','details',str(df['content'][index]).lower())\n",
        "\n",
        "  #removing words NP and SP,'original assage' as they doesn't convey significant info\n",
        "\n",
        "  df.loc[index,'content']=re.sub('NP|SP|[\\s]+original ssage','',df['content'][index])\n",
        "\n",
        "  #replacing bject with abject\n",
        "  df.loc[index,'content']=re.sub('[\\s]+bject',' abject',str(df['content'][index]).lower())\n",
        "\n",
        "  #replacing yea with yes\n",
        "  df.loc[index,'content']=re.sub('[\\s]yea','yes',df['content'][index])\n"
      ],
      "execution_count": null,
      "outputs": []
    },
    {
      "cell_type": "code",
      "metadata": {
        "id": "gCrr7ih5lnlT"
      },
      "source": [
        "for index in range(df.shape[0]):\n",
        "\n",
        "  #removing mail to \n",
        "  df.loc[index,'content']=re.sub('[\\s]+ma[\\s]*il[\\s]+to','',str(df['content'][index]).lower())\n",
        "  \n",
        "\n",
        "  \n",
        "  #removing rsday which occurs frequently\n",
        "  df.loc[index,'content']=re.sub('[\\s]+rsday','',str(df['content'][index]).lower())\n",
        "\n",
        "  #replacing mkt with market\n",
        "  df.loc[index,'content']=re.sub('[\\s]mkt','market',df['content'][index])"
      ],
      "execution_count": null,
      "outputs": []
    },
    {
      "cell_type": "code",
      "metadata": {
        "id": "r6W5lMgOlnyh"
      },
      "source": [
        "for index in range(df.shape[0]):\n",
        "\n",
        "  #removing hou\n",
        "  df.loc[index,'content']=re.sub('[\\s]+h[\\s]*o[\\s]*u',' ',str(df['content'][index]).lower())\n",
        "\n",
        "  #removing word name,ar,ober,etc\n",
        "  df.loc[index,'content']=re.sub('[\\s]name|[\\s]ar|[\\s]ober|etc',' ',df['content'][index].lower())\n",
        "\n",
        "  #replacing wud with would\n",
        "  df.loc[index,'content']=re.sub('[\\s]wud','would',df['content'][index].lower())\n",
        "\n",
        "  #replacing fw with few\n",
        "  df.loc[index,'content']=re.sub('[\\s]fw','few',df['content'][index].lower())\n",
        "\n",
        "  #removing 'ginal ssage',vember,e,isso\n",
        "  df.loc[index,'content']=re.sub('[\\s]ginal ssage|[\\s]vember|[\\s]e|[\\s]isso',' ',df['content'][index].lower())"
      ],
      "execution_count": null,
      "outputs": []
    },
    {
      "cell_type": "code",
      "metadata": {
        "id": "4jRGtWDzl_LL"
      },
      "source": [
        "for index in range(df.shape[0]):\n",
        "     \n",
        "  #removing word mail, 're which stands for are\n",
        "  df.loc[index,'content']=re.sub(\"[\\s]mail|'re\",'',df['content'][index].lower())\n",
        "\n",
        "  #removing i'm,that,urday\n",
        "  df.loc[index,'content']=re.sub(\"[\\s]i'm|[\\s]that|[\\s]urday\",'',df['content'][index].lower())\n",
        "\n",
        "  #replacing pport with support\n",
        "  df.loc[index,'content']=re.sub(\"[\\s]pport\",' support',df['content'][index].lower())\n",
        "\n",
        "  #replacing mmunication with communication\n",
        "  df.loc[index,'content']=re.sub(\"[\\s]mmunication\",' communication',df['content'][index].lower())\n",
        "\n",
        "  #replacing iust with just\n",
        "  df.loc[index,'content']=re.sub(\"[\\s]iust\",' just',df['content'][index].lower())"
      ],
      "execution_count": null,
      "outputs": []
    },
    {
      "cell_type": "code",
      "metadata": {
        "id": "V7ZRj7QNmIym"
      },
      "source": [
        "for index in range(df.shape[0]):\n",
        "\n",
        "  #replacing nterest with interest\n",
        "  df.loc[index,'content']=re.sub(\"[\\s]nterest\",' interest',df['content'][index].lower())\n",
        "\n",
        "  #replacing upply with supply\n",
        "  df.loc[index,'content']=re.sub(\"[\\s]upply\",' supply',df['content'][index].lower())\n",
        "\n",
        "  #replacing ollowing with following\n",
        "  df.loc[index,'content']=re.sub(\"[\\s]ollowing\",' following',df['content'][index].lower())\n",
        "\n",
        "\n",
        "  #replacing  ially with initial\n",
        "  df.loc[index,'content']=re.sub(\"[\\s]ially\",' initial',df['content'][index].lower())\n",
        "\n",
        "  #removing ello,xico,ly,ft.,la\n",
        "  df.loc[index,'content']=re.sub('[\\s]+ello|[\\s]+xico|[\\s]+ly|[\\s]+ft[.]|[\\s]+la|[\\s]months',' ',df['content'][index].lower())\n",
        "\n",
        "\n",
        "\n",
        "\n",
        "\n"
      ],
      "execution_count": null,
      "outputs": []
    },
    {
      "cell_type": "code",
      "metadata": {
        "id": "mITZu0V-B8rV"
      },
      "source": [
        "for index in range(df.shape[0]):\n",
        "     \n",
        "    #removing word 'em which is used inplace of them\n",
        "    df.loc[index,'content']=re.sub(\"'em\",'',df['content'][index].lower())\n",
        "    "
      ],
      "execution_count": null,
      "outputs": []
    },
    {
      "cell_type": "code",
      "metadata": {
        "id": "E-skpzF9mn_o"
      },
      "source": [
        "data=pd.DataFrame({'content':df['content'],'class':df['class']})\n",
        "data.to_csv('cleaned1.csv',index=False)"
      ],
      "execution_count": null,
      "outputs": []
    },
    {
      "cell_type": "code",
      "metadata": {
        "colab": {
          "background_save": true
        },
        "id": "yQ9QFz667gOe",
        "outputId": "a59c7bf4-a9b5-442b-e46d-95a984df1bde"
      },
      "source": [
        "from sklearn.feature_extraction.text import CountVectorizer\n",
        "cv = CountVectorizer(max_features=48000)\n",
        "x = cv.fit_transform(corpus).toarray()"
      ],
      "execution_count": null,
      "outputs": [
        {
          "output_type": "error",
          "ename": "TypeError",
          "evalue": "'LazyModule' object is not iterable",
          "traceback": [
            "\u001b[0;31m---------------------------------------------------------------------------\u001b[0m",
            "\u001b[0;31mTypeError\u001b[0m                                 Traceback (most recent call last)",
            "\u001b[0;32m<ipython-input-40-325526684a28>\u001b[0m in \u001b[0;36m<module>\u001b[0;34m\u001b[0m\n\u001b[1;32m      1\u001b[0m \u001b[0;32mfrom\u001b[0m \u001b[0msklearn\u001b[0m\u001b[0;34m.\u001b[0m\u001b[0mfeature_extraction\u001b[0m\u001b[0;34m.\u001b[0m\u001b[0mtext\u001b[0m \u001b[0;32mimport\u001b[0m \u001b[0mCountVectorizer\u001b[0m\u001b[0;34m\u001b[0m\u001b[0;34m\u001b[0m\u001b[0m\n\u001b[1;32m      2\u001b[0m \u001b[0mcv\u001b[0m \u001b[0;34m=\u001b[0m \u001b[0mCountVectorizer\u001b[0m\u001b[0;34m(\u001b[0m\u001b[0mmax_features\u001b[0m\u001b[0;34m=\u001b[0m\u001b[0;36m48000\u001b[0m\u001b[0;34m)\u001b[0m\u001b[0;34m\u001b[0m\u001b[0;34m\u001b[0m\u001b[0m\n\u001b[0;32m----> 3\u001b[0;31m \u001b[0mx\u001b[0m \u001b[0;34m=\u001b[0m \u001b[0mcv\u001b[0m\u001b[0;34m.\u001b[0m\u001b[0mfit_transform\u001b[0m\u001b[0;34m(\u001b[0m\u001b[0mcorpus\u001b[0m\u001b[0;34m)\u001b[0m\u001b[0;34m.\u001b[0m\u001b[0mtoarray\u001b[0m\u001b[0;34m(\u001b[0m\u001b[0;34m)\u001b[0m\u001b[0;34m\u001b[0m\u001b[0;34m\u001b[0m\u001b[0m\n\u001b[0m",
            "\u001b[0;32m~/anaconda3/lib/python3.7/site-packages/sklearn/feature_extraction/text.py\u001b[0m in \u001b[0;36mfit_transform\u001b[0;34m(self, raw_documents, y)\u001b[0m\n\u001b[1;32m   1218\u001b[0m \u001b[0;34m\u001b[0m\u001b[0m\n\u001b[1;32m   1219\u001b[0m         vocabulary, X = self._count_vocab(raw_documents,\n\u001b[0;32m-> 1220\u001b[0;31m                                           self.fixed_vocabulary_)\n\u001b[0m\u001b[1;32m   1221\u001b[0m \u001b[0;34m\u001b[0m\u001b[0m\n\u001b[1;32m   1222\u001b[0m         \u001b[0;32mif\u001b[0m \u001b[0mself\u001b[0m\u001b[0;34m.\u001b[0m\u001b[0mbinary\u001b[0m\u001b[0;34m:\u001b[0m\u001b[0;34m\u001b[0m\u001b[0;34m\u001b[0m\u001b[0m\n",
            "\u001b[0;32m~/anaconda3/lib/python3.7/site-packages/sklearn/feature_extraction/text.py\u001b[0m in \u001b[0;36m_count_vocab\u001b[0;34m(self, raw_documents, fixed_vocab)\u001b[0m\n\u001b[1;32m   1127\u001b[0m         \u001b[0mvalues\u001b[0m \u001b[0;34m=\u001b[0m \u001b[0m_make_int_array\u001b[0m\u001b[0;34m(\u001b[0m\u001b[0;34m)\u001b[0m\u001b[0;34m\u001b[0m\u001b[0;34m\u001b[0m\u001b[0m\n\u001b[1;32m   1128\u001b[0m         \u001b[0mindptr\u001b[0m\u001b[0;34m.\u001b[0m\u001b[0mappend\u001b[0m\u001b[0;34m(\u001b[0m\u001b[0;36m0\u001b[0m\u001b[0;34m)\u001b[0m\u001b[0;34m\u001b[0m\u001b[0;34m\u001b[0m\u001b[0m\n\u001b[0;32m-> 1129\u001b[0;31m         \u001b[0;32mfor\u001b[0m \u001b[0mdoc\u001b[0m \u001b[0;32min\u001b[0m \u001b[0mraw_documents\u001b[0m\u001b[0;34m:\u001b[0m\u001b[0;34m\u001b[0m\u001b[0;34m\u001b[0m\u001b[0m\n\u001b[0m\u001b[1;32m   1130\u001b[0m             \u001b[0mfeature_counter\u001b[0m \u001b[0;34m=\u001b[0m \u001b[0;34m{\u001b[0m\u001b[0;34m}\u001b[0m\u001b[0;34m\u001b[0m\u001b[0;34m\u001b[0m\u001b[0m\n\u001b[1;32m   1131\u001b[0m             \u001b[0;32mfor\u001b[0m \u001b[0mfeature\u001b[0m \u001b[0;32min\u001b[0m \u001b[0manalyze\u001b[0m\u001b[0;34m(\u001b[0m\u001b[0mdoc\u001b[0m\u001b[0;34m)\u001b[0m\u001b[0;34m:\u001b[0m\u001b[0;34m\u001b[0m\u001b[0;34m\u001b[0m\u001b[0m\n",
            "\u001b[0;31mTypeError\u001b[0m: 'LazyModule' object is not iterable"
          ]
        }
      ]
    },
    {
      "cell_type": "code",
      "metadata": {
        "id": "R48iGlGRUOOF"
      },
      "source": [
        "|"
      ],
      "execution_count": null,
      "outputs": []
    }
  ]
}